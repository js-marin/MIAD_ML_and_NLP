{
 "cells": [
  {
   "cell_type": "markdown",
   "metadata": {},
   "source": [
    "![image info](https://raw.githubusercontent.com/albahnsen/MIAD_ML_and_NLP/main/images/banner_1.png)"
   ]
  },
  {
   "cell_type": "markdown",
   "metadata": {},
   "source": [
    "# Taller: Construcción e implementación de modelos Bagging, Random Forest y XGBoost\n",
    "\n",
    "En este taller podrán poner en práctica sus conocimientos sobre la construcción e implementación de modelos de Bagging, Random Forest y XGBoost. El taller está constituido por 8 puntos, en los cuales deberan seguir las intrucciones de cada numeral para su desarrollo."
   ]
  },
  {
   "cell_type": "markdown",
   "metadata": {},
   "source": [
    "## Datos predicción precio de automóviles\n",
    "\n",
    "En este taller se usará el conjunto de datos de Car Listings de Kaggle donde cada observación representa el precio de un automóvil teniendo en cuenta distintas variables como año, marca, modelo, entre otras. El objetivo es predecir si el precio del automóvil es alto o no. Para más detalles puede visitar el siguiente enlace: [datos](https://www.kaggle.com/jpayne/852k-used-car-listings)."
   ]
  },
  {
   "cell_type": "code",
   "execution_count": 1,
   "metadata": {},
   "outputs": [],
   "source": [
    "import warnings\n",
    "warnings.filterwarnings('ignore')"
   ]
  },
  {
   "cell_type": "code",
   "execution_count": 2,
   "metadata": {},
   "outputs": [
    {
     "data": {
      "text/html": [
       "<div>\n",
       "<style scoped>\n",
       "    .dataframe tbody tr th:only-of-type {\n",
       "        vertical-align: middle;\n",
       "    }\n",
       "\n",
       "    .dataframe tbody tr th {\n",
       "        vertical-align: top;\n",
       "    }\n",
       "\n",
       "    .dataframe thead th {\n",
       "        text-align: right;\n",
       "    }\n",
       "</style>\n",
       "<table border=\"1\" class=\"dataframe\">\n",
       "  <thead>\n",
       "    <tr style=\"text-align: right;\">\n",
       "      <th></th>\n",
       "      <th>Year</th>\n",
       "      <th>Mileage</th>\n",
       "      <th>M_Camry</th>\n",
       "      <th>M_Camry4dr</th>\n",
       "      <th>M_CamryBase</th>\n",
       "      <th>M_CamryL</th>\n",
       "      <th>M_CamryLE</th>\n",
       "      <th>M_CamrySE</th>\n",
       "      <th>M_CamryXLE</th>\n",
       "      <th>HighPrice</th>\n",
       "    </tr>\n",
       "  </thead>\n",
       "  <tbody>\n",
       "    <tr>\n",
       "      <th>7</th>\n",
       "      <td>2014</td>\n",
       "      <td>6480</td>\n",
       "      <td>0</td>\n",
       "      <td>0</td>\n",
       "      <td>0</td>\n",
       "      <td>1</td>\n",
       "      <td>0</td>\n",
       "      <td>0</td>\n",
       "      <td>0</td>\n",
       "      <td>1</td>\n",
       "    </tr>\n",
       "    <tr>\n",
       "      <th>11</th>\n",
       "      <td>2014</td>\n",
       "      <td>39972</td>\n",
       "      <td>0</td>\n",
       "      <td>0</td>\n",
       "      <td>0</td>\n",
       "      <td>0</td>\n",
       "      <td>1</td>\n",
       "      <td>0</td>\n",
       "      <td>0</td>\n",
       "      <td>0</td>\n",
       "    </tr>\n",
       "    <tr>\n",
       "      <th>167</th>\n",
       "      <td>2016</td>\n",
       "      <td>18989</td>\n",
       "      <td>0</td>\n",
       "      <td>0</td>\n",
       "      <td>0</td>\n",
       "      <td>0</td>\n",
       "      <td>0</td>\n",
       "      <td>1</td>\n",
       "      <td>0</td>\n",
       "      <td>1</td>\n",
       "    </tr>\n",
       "    <tr>\n",
       "      <th>225</th>\n",
       "      <td>2014</td>\n",
       "      <td>51330</td>\n",
       "      <td>0</td>\n",
       "      <td>0</td>\n",
       "      <td>0</td>\n",
       "      <td>1</td>\n",
       "      <td>0</td>\n",
       "      <td>0</td>\n",
       "      <td>0</td>\n",
       "      <td>0</td>\n",
       "    </tr>\n",
       "    <tr>\n",
       "      <th>270</th>\n",
       "      <td>2007</td>\n",
       "      <td>116065</td>\n",
       "      <td>0</td>\n",
       "      <td>1</td>\n",
       "      <td>0</td>\n",
       "      <td>0</td>\n",
       "      <td>0</td>\n",
       "      <td>0</td>\n",
       "      <td>0</td>\n",
       "      <td>0</td>\n",
       "    </tr>\n",
       "  </tbody>\n",
       "</table>\n",
       "</div>"
      ],
      "text/plain": [
       "     Year  Mileage  M_Camry  M_Camry4dr  M_CamryBase  M_CamryL  M_CamryLE  \\\n",
       "7    2014     6480        0           0            0         1          0   \n",
       "11   2014    39972        0           0            0         0          1   \n",
       "167  2016    18989        0           0            0         0          0   \n",
       "225  2014    51330        0           0            0         1          0   \n",
       "270  2007   116065        0           1            0         0          0   \n",
       "\n",
       "     M_CamrySE  M_CamryXLE  HighPrice  \n",
       "7            0           0          1  \n",
       "11           0           0          0  \n",
       "167          1           0          1  \n",
       "225          0           0          0  \n",
       "270          0           0          0  "
      ]
     },
     "execution_count": 2,
     "metadata": {},
     "output_type": "execute_result"
    }
   ],
   "source": [
    "# Importación de librerías\n",
    "%matplotlib inline\n",
    "import pandas as pd\n",
    "import numpy as np\n",
    "\n",
    "# Lectura de la información de archivo .csv\n",
    "data = pd.read_csv('https://raw.githubusercontent.com/albahnsen/MIAD_ML_and_NLP/main/datasets/dataTrain_carListings.zip')\n",
    "\n",
    "# Preprocesamiento de datos para el taller\n",
    "data = data.loc[data['Model'].str.contains('Camry')].drop(['Make', 'State'], axis=1)\n",
    "data = data.join(pd.get_dummies(data['Model'], prefix='M'))\n",
    "data['HighPrice'] = (data['Price'] > data['Price'].mean()).astype(int)\n",
    "data = data.drop(['Model', 'Price'], axis=1)\n",
    "\n",
    "# Visualización dataset\n",
    "data.head()"
   ]
  },
  {
   "cell_type": "code",
   "execution_count": 3,
   "metadata": {},
   "outputs": [],
   "source": [
    "# Separación de variables predictoras (X) y variable de interés (y)\n",
    "y = data['HighPrice']\n",
    "X = data.drop(['HighPrice'], axis=1)"
   ]
  },
  {
   "cell_type": "code",
   "execution_count": 4,
   "metadata": {},
   "outputs": [],
   "source": [
    "# Separación de datos en set de entrenamiento y test\n",
    "from sklearn.model_selection import train_test_split\n",
    "X_train, X_test, y_train, y_test = train_test_split(X, y, test_size=0.33, random_state=42)"
   ]
  },
  {
   "cell_type": "markdown",
   "metadata": {},
   "source": [
    "### Punto 1 - Árbol de decisión manual\n",
    "\n",
    "En la celda 1 creen un árbol de decisión **manualmente**  que considere los set de entrenamiento y test definidos anteriormente y presenten el acurracy del modelo en el set de test."
   ]
  },
  {
   "cell_type": "code",
   "execution_count": 110,
   "metadata": {},
   "outputs": [],
   "source": [
    "# Celda 1\n",
    "\n",
    "#Calculo gini\n",
    "\n",
    "def gini(y):\n",
    "    if y.shape[0] == 0:\n",
    "        return 0\n",
    "    else:\n",
    "        return 1 - (y.mean()**2 + (1 - y.mean())**2)"
   ]
  },
  {
   "cell_type": "code",
   "execution_count": 111,
   "metadata": {},
   "outputs": [],
   "source": [
    "#Estimacion gini iputity parar evaluar cada particion\n",
    "\n",
    "def gini_impurity(X_col, y, split):\n",
    "    \n",
    "    filter_l = X_col < split\n",
    "    y_l = y.loc[filter_l]\n",
    "    y_r = y.loc[~filter_l]\n",
    "    \n",
    "    n_l = y_l.shape[0]\n",
    "    n_r = y_r.shape[0]\n",
    "    \n",
    "    gini_y = gini(y)\n",
    "    gini_l = gini(y_l)\n",
    "    gini_r = gini(y_r)\n",
    "    \n",
    "    gini_impurity_ = gini_y - (n_l / (n_l + n_r) * gini_l + n_r / (n_l + n_r) * gini_r)\n",
    "    \n",
    "    return gini_impurity_"
   ]
  },
  {
   "cell_type": "code",
   "execution_count": 112,
   "metadata": {},
   "outputs": [],
   "source": [
    "def best_split(X, y, num_pct=10):\n",
    "    \n",
    "    features = range(X.shape[1])\n",
    "    \n",
    "    best_split = [0, 0, 0]  # j, split, gain\n",
    "    \n",
    "    # Para todas las varibles \n",
    "    for j in features:\n",
    "        \n",
    "        splits = np.percentile(X.iloc[:, j], np.arange(0, 100, 100.0 / (num_pct+1)).tolist())\n",
    "        splits = np.unique(splits)[1:]\n",
    "        \n",
    "        # Para cada partición\n",
    "        for split in splits:\n",
    "            gain = gini_impurity(X.iloc[:, j], y, split)\n",
    "                        \n",
    "            if gain > best_split[2]:\n",
    "                best_split = [j, split, gain]\n",
    "    \n",
    "    return best_split"
   ]
  },
  {
   "cell_type": "code",
   "execution_count": 113,
   "metadata": {},
   "outputs": [],
   "source": [
    "def tree_grow(X, y, level=0, min_gain=0.001, max_depth=None, num_pct=10):\n",
    "    \n",
    "    # Si solo es una observación\n",
    "    if X.shape[0] == 1:\n",
    "        tree = dict(y_pred=y.iloc[:1].values[0], y_prob=0.5, level=level, split=-1, n_samples=1, gain=0)\n",
    "        return tree\n",
    "    \n",
    "    # Calcular la mejor división\n",
    "    j, split, gain = best_split(X, y, num_pct)\n",
    "    \n",
    "    # Guardar el árbol y estimar la predicción\n",
    "    y_pred = int(y.mean() >= 0.5) \n",
    "    y_prob = (y.sum() + 1.0) / (y.shape[0] + 2.0)  # Corrección Laplace \n",
    "    \n",
    "    tree = dict(y_pred=y_pred, y_prob=y_prob, level=level, split=-1, n_samples=X.shape[0], gain=gain)\n",
    "    # Revisar el criterio de parada \n",
    "    if gain < min_gain:\n",
    "        return tree\n",
    "    if max_depth is not None:\n",
    "        if level >= max_depth:\n",
    "            return tree   \n",
    "    \n",
    "    # Continuar creando la partición\n",
    "    filter_l = X.iloc[:, j] < split\n",
    "    X_l, y_l = X.loc[filter_l], y.loc[filter_l]\n",
    "    X_r, y_r = X.loc[~filter_l], y.loc[~filter_l]\n",
    "    tree['split'] = [j, split]\n",
    "\n",
    "    # Siguiente iteración para cada partición\n",
    "    \n",
    "    tree['sl'] = tree_grow(X_l, y_l, level + 1, min_gain=min_gain, max_depth=max_depth, num_pct=num_pct)\n",
    "    tree['sr'] = tree_grow(X_r, y_r, level + 1, min_gain=min_gain, max_depth=max_depth, num_pct=num_pct)\n",
    "    \n",
    "    return tree"
   ]
  },
  {
   "cell_type": "code",
   "execution_count": 138,
   "metadata": {},
   "outputs": [
    {
     "data": {
      "text/plain": [
       "{'y_pred': 1,\n",
       " 'y_prob': 0.5778472913408218,\n",
       " 'level': 0,\n",
       " 'split': [1, 51394.909090909096],\n",
       " 'n_samples': 7031,\n",
       " 'gain': 0.23630504821132137,\n",
       " 'sl': {'y_pred': 1,\n",
       "  'y_prob': 0.8375781948168007,\n",
       "  'level': 1,\n",
       "  'split': [0, 2015.0],\n",
       "  'n_samples': 4474,\n",
       "  'gain': 0.03713896892744761,\n",
       "  'sl': {'y_pred': 1,\n",
       "   'y_prob': 0.6404416839199448,\n",
       "   'level': 2,\n",
       "   'split': [0, 2013.0],\n",
       "   'n_samples': 1447,\n",
       "   'gain': 0.043426293133466354,\n",
       "   'sl': {'y_pred': 0,\n",
       "    'y_prob': 0.2780487804878049,\n",
       "    'level': 3,\n",
       "    'split': [0, 2012.0],\n",
       "    'n_samples': 203,\n",
       "    'gain': 0.05394731382546758,\n",
       "    'sl': {'y_pred': 0,\n",
       "     'y_prob': 0.09195402298850575,\n",
       "     'level': 4,\n",
       "     'split': [1, 35652.36363636363],\n",
       "     'n_samples': 85,\n",
       "     'gain': 0.01352946029496721,\n",
       "     'sl': {'y_pred': 0,\n",
       "      'y_prob': 0.24,\n",
       "      'level': 5,\n",
       "      'split': [2, 1.0],\n",
       "      'n_samples': 23,\n",
       "      'gain': 0.08132745221592097,\n",
       "      'sl': {'y_pred': 0,\n",
       "       'y_prob': 0.15,\n",
       "       'level': 6,\n",
       "       'split': -1,\n",
       "       'n_samples': 18,\n",
       "       'gain': 0.08641975308641975},\n",
       "      'sr': {'y_pred': 1,\n",
       "       'y_prob': 0.5714285714285714,\n",
       "       'level': 6,\n",
       "       'split': -1,\n",
       "       'n_samples': 5,\n",
       "       'gain': 0.21333333333333332}},\n",
       "     'sr': {'y_pred': 0,\n",
       "      'y_prob': 0.046875,\n",
       "      'level': 5,\n",
       "      'split': [1, 50471.36363636364],\n",
       "      'n_samples': 62,\n",
       "      'gain': 0.0038712154997273124,\n",
       "      'sl': {'y_pred': 0,\n",
       "       'y_prob': 0.034482758620689655,\n",
       "       'level': 6,\n",
       "       'split': -1,\n",
       "       'n_samples': 56,\n",
       "       'gain': 0.0023384353741496555},\n",
       "      'sr': {'y_pred': 0,\n",
       "       'y_prob': 0.25,\n",
       "       'level': 6,\n",
       "       'split': -1,\n",
       "       'n_samples': 6,\n",
       "       'gain': 0.11111111111111102}}},\n",
       "    'sr': {'y_pred': 0,\n",
       "     'y_prob': 0.4166666666666667,\n",
       "     'level': 4,\n",
       "     'split': [1, 24887.363636363636],\n",
       "     'n_samples': 118,\n",
       "     'gain': 0.020017026523643233,\n",
       "     'sl': {'y_pred': 1,\n",
       "      'y_prob': 0.6923076923076923,\n",
       "      'level': 5,\n",
       "      'split': [6, 0.2727272727272734],\n",
       "      'n_samples': 11,\n",
       "      'gain': 0.11639118457300279,\n",
       "      'sl': {'y_pred': 1,\n",
       "       'y_prob': 0.8,\n",
       "       'level': 6,\n",
       "       'split': -1,\n",
       "       'n_samples': 8,\n",
       "       'gain': 0.05208333333333334},\n",
       "      'sr': {'y_pred': 0,\n",
       "       'y_prob': 0.4,\n",
       "       'level': 6,\n",
       "       'split': -1,\n",
       "       'n_samples': 3,\n",
       "       'gain': 0.4444444444444444}},\n",
       "     'sr': {'y_pred': 0,\n",
       "      'y_prob': 0.3853211009174312,\n",
       "      'level': 5,\n",
       "      'split': [8, 0.36363636363637397],\n",
       "      'n_samples': 107,\n",
       "      'gain': 0.02069617568904858,\n",
       "      'sl': {'y_pred': 0,\n",
       "       'y_prob': 0.35353535353535354,\n",
       "       'level': 6,\n",
       "       'split': -1,\n",
       "       'n_samples': 97,\n",
       "       'gain': 0.01725661384576438},\n",
       "      'sr': {'y_pred': 1,\n",
       "       'y_prob': 0.6666666666666666,\n",
       "       'level': 6,\n",
       "       'split': -1,\n",
       "       'n_samples': 10,\n",
       "       'gain': 0.18000000000000005}}}},\n",
       "   'sr': {'y_pred': 1,\n",
       "    'y_prob': 0.6998394863563403,\n",
       "    'level': 3,\n",
       "    'split': [1, 39822.0],\n",
       "    'n_samples': 1244,\n",
       "    'gain': 0.024256063237019176,\n",
       "    'sl': {'y_pred': 1,\n",
       "     'y_prob': 0.7671081677704195,\n",
       "     'level': 4,\n",
       "     'split': [6, 1.0],\n",
       "     'n_samples': 904,\n",
       "     'gain': 0.014011200973446158,\n",
       "     'sl': {'y_pred': 1,\n",
       "      'y_prob': 0.8110014104372355,\n",
       "      'level': 5,\n",
       "      'split': [1, 37595.63636363637],\n",
       "      'n_samples': 707,\n",
       "      'gain': 0.00556156034847427,\n",
       "      'sl': {'y_pred': 1,\n",
       "       'y_prob': 0.827639751552795,\n",
       "       'level': 6,\n",
       "       'split': -1,\n",
       "       'n_samples': 642,\n",
       "       'gain': 0.0036738773886121345},\n",
       "      'sr': {'y_pred': 1,\n",
       "       'y_prob': 0.6417910447761194,\n",
       "       'level': 6,\n",
       "       'split': -1,\n",
       "       'n_samples': 65,\n",
       "       'gain': 0.014700508668119894}},\n",
       "     'sr': {'y_pred': 1,\n",
       "      'y_prob': 0.6080402010050251,\n",
       "      'level': 5,\n",
       "      'split': [1, 25090.727272727276],\n",
       "      'n_samples': 197,\n",
       "      'gain': 0.0509520357534477,\n",
       "      'sl': {'y_pred': 1,\n",
       "       'y_prob': 0.8108108108108109,\n",
       "       'level': 6,\n",
       "       'split': -1,\n",
       "       'n_samples': 72,\n",
       "       'gain': 0.013111348528015265},\n",
       "      'sr': {'y_pred': 0,\n",
       "       'y_prob': 0.4881889763779528,\n",
       "       'level': 6,\n",
       "       'split': -1,\n",
       "       'n_samples': 125,\n",
       "       'gain': 0.010412280112044925}}},\n",
       "    'sr': {'y_pred': 1,\n",
       "     'y_prob': 0.52046783625731,\n",
       "     'level': 4,\n",
       "     'split': [6, 1.0],\n",
       "     'n_samples': 340,\n",
       "     'gain': 0.05453490718936188,\n",
       "     'sl': {'y_pred': 1,\n",
       "      'y_prob': 0.6098484848484849,\n",
       "      'level': 5,\n",
       "      'split': [8, 1.0],\n",
       "      'n_samples': 262,\n",
       "      'gain': 0.016551370145274913,\n",
       "      'sl': {'y_pred': 1,\n",
       "       'y_prob': 0.5714285714285714,\n",
       "       'level': 6,\n",
       "       'split': -1,\n",
       "       'n_samples': 222,\n",
       "       'gain': 0.016980819925555668},\n",
       "      'sr': {'y_pred': 1,\n",
       "       'y_prob': 0.8095238095238095,\n",
       "       'level': 6,\n",
       "       'split': -1,\n",
       "       'n_samples': 40,\n",
       "       'gain': 0.023472222222222394}},\n",
       "     'sr': {'y_pred': 0,\n",
       "      'y_prob': 0.225,\n",
       "      'level': 5,\n",
       "      'split': [1, 49730.0],\n",
       "      'n_samples': 78,\n",
       "      'gain': 0.010898218590526254,\n",
       "      'sl': {'y_pred': 0,\n",
       "       'y_prob': 0.26153846153846155,\n",
       "       'level': 6,\n",
       "       'split': -1,\n",
       "       'n_samples': 63,\n",
       "       'gain': 0.01840414104450161},\n",
       "      'sr': {'y_pred': 0,\n",
       "       'y_prob': 0.11764705882352941,\n",
       "       'level': 6,\n",
       "       'split': -1,\n",
       "       'n_samples': 15,\n",
       "       'gain': 0.035555555555555465}}}}},\n",
       "  'sr': {'y_pred': 1,\n",
       "   'y_prob': 0.9316606140640475,\n",
       "   'level': 2,\n",
       "   'split': [1, 30532.545454545452],\n",
       "   'n_samples': 3027,\n",
       "   'gain': 0.007509453837285407,\n",
       "   'sl': {'y_pred': 1,\n",
       "    'y_prob': 0.9872958257713249,\n",
       "    'level': 3,\n",
       "    'split': -1,\n",
       "    'n_samples': 1651,\n",
       "    'gain': 0.00024133700317513843},\n",
       "   'sr': {'y_pred': 1,\n",
       "    'y_prob': 0.8642960812772134,\n",
       "    'level': 3,\n",
       "    'split': [6, 1.0],\n",
       "    'n_samples': 1376,\n",
       "    'gain': 0.00816405585876312,\n",
       "    'sl': {'y_pred': 1,\n",
       "     'y_prob': 0.9044715447154471,\n",
       "     'level': 4,\n",
       "     'split': [1, 44211.63636363637],\n",
       "     'n_samples': 982,\n",
       "     'gain': 0.0011786261141377707,\n",
       "     'sl': {'y_pred': 1,\n",
       "      'y_prob': 0.9189944134078212,\n",
       "      'level': 5,\n",
       "      'split': [0, 2017.0],\n",
       "      'n_samples': 714,\n",
       "      'gain': 0.0015632224032787745,\n",
       "      'sl': {'y_pred': 1,\n",
       "       'y_prob': 0.9090909090909091,\n",
       "       'level': 6,\n",
       "       'split': -1,\n",
       "       'n_samples': 636,\n",
       "       'gain': 0.0008129098073457186},\n",
       "      'sr': {'y_pred': 1,\n",
       "       'y_prob': 0.9875,\n",
       "       'level': 6,\n",
       "       'split': -1,\n",
       "       'n_samples': 78,\n",
       "       'gain': 0}},\n",
       "     'sr': {'y_pred': 1,\n",
       "      'y_prob': 0.8629629629629629,\n",
       "      'level': 5,\n",
       "      'split': [0, 2016.0],\n",
       "      'n_samples': 268,\n",
       "      'gain': 0.0029666274073334997,\n",
       "      'sl': {'y_pred': 1,\n",
       "       'y_prob': 0.8113207547169812,\n",
       "       'level': 6,\n",
       "       'split': -1,\n",
       "       'n_samples': 104,\n",
       "       'gain': 0.01542136864088528},\n",
       "      'sr': {'y_pred': 1,\n",
       "       'y_prob': 0.891566265060241,\n",
       "       'level': 6,\n",
       "       'split': -1,\n",
       "       'n_samples': 164,\n",
       "       'gain': 0.0004500731907840505}}},\n",
       "    'sr': {'y_pred': 1,\n",
       "     'y_prob': 0.7626262626262627,\n",
       "     'level': 4,\n",
       "     'split': [1, 46088.36363636364],\n",
       "     'n_samples': 394,\n",
       "     'gain': 0.012432872082331625,\n",
       "     'sl': {'y_pred': 1,\n",
       "      'y_prob': 0.7993827160493827,\n",
       "      'level': 5,\n",
       "      'split': [0, 2016.0],\n",
       "      'n_samples': 322,\n",
       "      'gain': 0.0017790429580819,\n",
       "      'sl': {'y_pred': 1,\n",
       "       'y_prob': 0.7545454545454545,\n",
       "       'level': 6,\n",
       "       'split': -1,\n",
       "       'n_samples': 108,\n",
       "       'gain': 0.0071004617233656475},\n",
       "      'sr': {'y_pred': 1,\n",
       "       'y_prob': 0.8194444444444444,\n",
       "       'level': 6,\n",
       "       'split': -1,\n",
       "       'n_samples': 214,\n",
       "       'gain': 0.001081668321998075}},\n",
       "     'sr': {'y_pred': 1,\n",
       "      'y_prob': 0.5945945945945946,\n",
       "      'level': 5,\n",
       "      'split': [1, 46625.454545454544],\n",
       "      'n_samples': 72,\n",
       "      'gain': 0.0061262040428707865,\n",
       "      'sl': {'y_pred': 0,\n",
       "       'y_prob': 0.4444444444444444,\n",
       "       'level': 6,\n",
       "       'split': -1,\n",
       "       'n_samples': 7,\n",
       "       'gain': 0.27551020408163274},\n",
       "      'sr': {'y_pred': 1,\n",
       "       'y_prob': 0.6119402985074627,\n",
       "       'level': 6,\n",
       "       'split': -1,\n",
       "       'n_samples': 65,\n",
       "       'gain': 0.006028804287149692}}}}}},\n",
       " 'sr': {'y_pred': 0,\n",
       "  'y_prob': 0.12348573661586557,\n",
       "  'level': 1,\n",
       "  'split': [0, 2014.0],\n",
       "  'n_samples': 2557,\n",
       "  'gain': 0.047676779790769896,\n",
       "  'sl': {'y_pred': 0,\n",
       "   'y_prob': 0.03826530612244898,\n",
       "   'level': 2,\n",
       "   'split': [0, 2012.0],\n",
       "   'n_samples': 1958,\n",
       "   'gain': 0.0045681349880153654,\n",
       "   'sl': {'y_pred': 0,\n",
       "    'y_prob': 0.00727802037845706,\n",
       "    'level': 3,\n",
       "    'split': -1,\n",
       "    'n_samples': 1372,\n",
       "    'gain': 6.539810508043517e-05},\n",
       "   'sr': {'y_pred': 0,\n",
       "    'y_prob': 0.11224489795918367,\n",
       "    'level': 3,\n",
       "    'split': [1, 73046.45454545454],\n",
       "    'n_samples': 586,\n",
       "    'gain': 0.011500104783552484,\n",
       "    'sl': {'y_pred': 0,\n",
       "     'y_prob': 0.21395348837209302,\n",
       "     'level': 4,\n",
       "     'split': [2, 0.7272727272727479],\n",
       "     'n_samples': 213,\n",
       "     'gain': 0.03131873045174638,\n",
       "     'sl': {'y_pred': 0,\n",
       "      'y_prob': 0.17435897435897435,\n",
       "      'level': 5,\n",
       "      'split': [3, 1.0],\n",
       "      'n_samples': 193,\n",
       "      'gain': 0.0022441355404702046,\n",
       "      'sl': {'y_pred': 0,\n",
       "       'y_prob': 0.2033898305084746,\n",
       "       'level': 6,\n",
       "       'split': -1,\n",
       "       'n_samples': 116,\n",
       "       'gain': 0.012082951847495582},\n",
       "      'sr': {'y_pred': 0,\n",
       "       'y_prob': 0.13924050632911392,\n",
       "       'level': 6,\n",
       "       'split': -1,\n",
       "       'n_samples': 77,\n",
       "       'gain': 0.017844493169168696}},\n",
       "     'sr': {'y_pred': 1,\n",
       "      'y_prob': 0.5909090909090909,\n",
       "      'level': 5,\n",
       "      'split': [0, 2013.0],\n",
       "      'n_samples': 20,\n",
       "      'gain': 0.10666666666666669,\n",
       "      'sl': {'y_pred': 0,\n",
       "       'y_prob': 0.47058823529411764,\n",
       "       'level': 6,\n",
       "       'split': -1,\n",
       "       'n_samples': 15,\n",
       "       'gain': 0.08752136752136752},\n",
       "      'sr': {'y_pred': 1,\n",
       "       'y_prob': 0.8571428571428571,\n",
       "       'level': 6,\n",
       "       'split': -1,\n",
       "       'n_samples': 5,\n",
       "       'gain': 0}}},\n",
       "    'sr': {'y_pred': 0,\n",
       "     'y_prob': 0.056,\n",
       "     'level': 4,\n",
       "     'split': [1, 86796.45454545454],\n",
       "     'n_samples': 373,\n",
       "     'gain': 0.0027469921069710745,\n",
       "     'sl': {'y_pred': 0,\n",
       "      'y_prob': 0.09883720930232558,\n",
       "      'level': 5,\n",
       "      'split': [3, 1.0],\n",
       "      'n_samples': 170,\n",
       "      'gain': 0.005168695203297352,\n",
       "      'sl': {'y_pred': 0,\n",
       "       'y_prob': 0.14150943396226415,\n",
       "       'level': 6,\n",
       "       'split': -1,\n",
       "       'n_samples': 104,\n",
       "       'gain': 0.02688315957546719},\n",
       "      'sr': {'y_pred': 0,\n",
       "       'y_prob': 0.04411764705882353,\n",
       "       'level': 6,\n",
       "       'split': -1,\n",
       "       'n_samples': 66,\n",
       "       'gain': 0.0022038567493111866}},\n",
       "     'sr': {'y_pred': 0,\n",
       "      'y_prob': 0.024390243902439025,\n",
       "      'level': 5,\n",
       "      'split': -1,\n",
       "      'n_samples': 203,\n",
       "      'gain': 0.0008738844612075081}}}},\n",
       "  'sr': {'y_pred': 0,\n",
       "   'y_prob': 0.40266222961730447,\n",
       "   'level': 2,\n",
       "   'split': [0, 2015.0],\n",
       "   'n_samples': 599,\n",
       "   'gain': 0.03360777305969753,\n",
       "   'sl': {'y_pred': 0,\n",
       "    'y_prob': 0.30213903743315507,\n",
       "    'level': 3,\n",
       "    'split': [8, 1.0],\n",
       "    'n_samples': 372,\n",
       "    'gain': 0.02792228272448688,\n",
       "    'sl': {'y_pred': 0,\n",
       "     'y_prob': 0.2598187311178248,\n",
       "     'level': 4,\n",
       "     'split': [1, 60734.36363636364],\n",
       "     'n_samples': 329,\n",
       "     'gain': 0.020406917448241912,\n",
       "     'sl': {'y_pred': 0,\n",
       "      'y_prob': 0.39344262295081966,\n",
       "      'level': 5,\n",
       "      'split': [6, 1.0],\n",
       "      'n_samples': 120,\n",
       "      'gain': 0.024785915984516682,\n",
       "      'sl': {'y_pred': 0,\n",
       "       'y_prob': 0.4380952380952381,\n",
       "       'level': 6,\n",
       "       'split': -1,\n",
       "       'n_samples': 103,\n",
       "       'gain': 0.009128769704447703},\n",
       "      'sr': {'y_pred': 0,\n",
       "       'y_prob': 0.15789473684210525,\n",
       "       'level': 6,\n",
       "       'split': -1,\n",
       "       'n_samples': 17,\n",
       "       'gain': 0.03898500576701286}},\n",
       "     'sr': {'y_pred': 0,\n",
       "      'y_prob': 0.1848341232227488,\n",
       "      'level': 5,\n",
       "      'split': [6, 1.0],\n",
       "      'n_samples': 209,\n",
       "      'gain': 0.008907488615280956,\n",
       "      'sl': {'y_pred': 0,\n",
       "       'y_prob': 0.2222222222222222,\n",
       "       'level': 6,\n",
       "       'split': -1,\n",
       "       'n_samples': 160,\n",
       "       'gain': 0.009933226671492434},\n",
       "      'sr': {'y_pred': 0,\n",
       "       'y_prob': 0.0784313725490196,\n",
       "       'level': 6,\n",
       "       'split': -1,\n",
       "       'n_samples': 49,\n",
       "       'gain': 0.0029987505206162113}}},\n",
       "    'sr': {'y_pred': 1,\n",
       "     'y_prob': 0.6222222222222222,\n",
       "     'level': 4,\n",
       "     'split': [1, 82538.7272727273],\n",
       "     'n_samples': 43,\n",
       "     'gain': 0.06528625511859693,\n",
       "     'sl': {'y_pred': 1,\n",
       "      'y_prob': 0.7027027027027027,\n",
       "      'level': 5,\n",
       "      'split': [1, 60500.63636363636],\n",
       "      'n_samples': 35,\n",
       "      'gain': 0.027591836734693898,\n",
       "      'sl': {'y_pred': 1,\n",
       "       'y_prob': 0.8333333333333334,\n",
       "       'level': 6,\n",
       "       'split': -1,\n",
       "       'n_samples': 10,\n",
       "       'gain': 0.046666666666666606},\n",
       "      'sr': {'y_pred': 1,\n",
       "       'y_prob': 0.6296296296296297,\n",
       "       'level': 6,\n",
       "       'split': -1,\n",
       "       'n_samples': 25,\n",
       "       'gain': 0.05404675324675312}},\n",
       "     'sr': {'y_pred': 0,\n",
       "      'y_prob': 0.3,\n",
       "      'level': 5,\n",
       "      'split': [1, 85832.72727272728],\n",
       "      'n_samples': 8,\n",
       "      'gain': 0.04166666666666674,\n",
       "      'sl': {'y_pred': 1,\n",
       "       'y_prob': 0.5,\n",
       "       'level': 6,\n",
       "       'split': -1,\n",
       "       'n_samples': 2,\n",
       "       'gain': 0.5},\n",
       "      'sr': {'y_pred': 0,\n",
       "       'y_prob': 0.25,\n",
       "       'level': 6,\n",
       "       'split': -1,\n",
       "       'n_samples': 6,\n",
       "       'gain': 0.05555555555555547}}}},\n",
       "   'sr': {'y_pred': 1,\n",
       "    'y_prob': 0.5676855895196506,\n",
       "    'level': 3,\n",
       "    'split': [1, 81106.09090909094],\n",
       "    'n_samples': 227,\n",
       "    'gain': 0.02910175577937174,\n",
       "    'sl': {'y_pred': 1,\n",
       "     'y_prob': 0.6057692307692307,\n",
       "     'level': 4,\n",
       "     'split': [1, 56288.72727272727],\n",
       "     'n_samples': 206,\n",
       "     'gain': 0.01833397012522614,\n",
       "     'sl': {'y_pred': 1,\n",
       "      'y_prob': 0.7272727272727273,\n",
       "      'level': 5,\n",
       "      'split': [1, 52392.0],\n",
       "      'n_samples': 75,\n",
       "      'gain': 0.020388007054673807,\n",
       "      'sl': {'y_pred': 1,\n",
       "       'y_prob': 0.5652173913043478,\n",
       "       'level': 6,\n",
       "       'split': -1,\n",
       "       'n_samples': 21,\n",
       "       'gain': 0.024187452758881345},\n",
       "      'sr': {'y_pred': 1,\n",
       "       'y_prob': 0.7857142857142857,\n",
       "       'level': 6,\n",
       "       'split': -1,\n",
       "       'n_samples': 54,\n",
       "       'gain': 0.013640067246305065}},\n",
       "     'sr': {'y_pred': 1,\n",
       "      'y_prob': 0.5338345864661654,\n",
       "      'level': 5,\n",
       "      'split': [8, 1.0],\n",
       "      'n_samples': 131,\n",
       "      'gain': 0.04889445575665913,\n",
       "      'sl': {'y_pred': 0,\n",
       "       'y_prob': 0.4519230769230769,\n",
       "       'level': 6,\n",
       "       'split': -1,\n",
       "       'n_samples': 102,\n",
       "       'gain': 0.03565124802149011},\n",
       "      'sr': {'y_pred': 1,\n",
       "       'y_prob': 0.8064516129032258,\n",
       "       'level': 6,\n",
       "       'split': -1,\n",
       "       'n_samples': 29,\n",
       "       'gain': 0.01229897068184821}}},\n",
       "    'sr': {'y_pred': 0,\n",
       "     'y_prob': 0.21739130434782608,\n",
       "     'level': 4,\n",
       "     'split': [8, 1.0],\n",
       "     'n_samples': 21,\n",
       "     'gain': 0.07558578987150422,\n",
       "     'sl': {'y_pred': 0,\n",
       "      'y_prob': 0.15,\n",
       "      'level': 5,\n",
       "      'split': [1, 84823.72727272728],\n",
       "      'n_samples': 18,\n",
       "      'gain': 0.06419753086419752,\n",
       "      'sl': {'y_pred': 0,\n",
       "       'y_prob': 0.42857142857142855,\n",
       "       'level': 6,\n",
       "       'split': -1,\n",
       "       'n_samples': 5,\n",
       "       'gain': 0.21333333333333332},\n",
       "      'sr': {'y_pred': 0,\n",
       "       'y_prob': 0.06666666666666667,\n",
       "       'level': 6,\n",
       "       'split': -1,\n",
       "       'n_samples': 13,\n",
       "       'gain': 0}},\n",
       "     'sr': {'y_pred': 1,\n",
       "      'y_prob': 0.6,\n",
       "      'level': 5,\n",
       "      'split': [1, 89720.90909090909],\n",
       "      'n_samples': 3,\n",
       "      'gain': 0.4444444444444444,\n",
       "      'sl': {'y_pred': 0,\n",
       "       'y_prob': 0.5,\n",
       "       'level': 6,\n",
       "       'split': -1,\n",
       "       'n_samples': 1,\n",
       "       'gain': 0},\n",
       "      'sr': {'y_pred': 1,\n",
       "       'y_prob': 0.75,\n",
       "       'level': 6,\n",
       "       'split': -1,\n",
       "       'n_samples': 2,\n",
       "       'gain': 0}}}}}}}"
      ]
     },
     "execution_count": 138,
     "metadata": {},
     "output_type": "execute_result"
    }
   ],
   "source": [
    "tree = tree_grow(X_train, y_train, level=0, min_gain=0.001, max_depth=6, num_pct=10)\n",
    "tree"
   ]
  },
  {
   "cell_type": "code",
   "execution_count": 140,
   "metadata": {},
   "outputs": [],
   "source": [
    "def tree_predict(X, tree, proba=False):\n",
    "    \n",
    "    predicted = np.ones(X.shape[0])\n",
    "\n",
    "    # Revisar si es el nodo final\n",
    "    if tree['split'] == -1:\n",
    "        if not proba:\n",
    "            predicted = predicted * tree['y_pred']\n",
    "        else:\n",
    "            predicted = predicted * tree['y_prob']\n",
    "            \n",
    "    else:\n",
    "        \n",
    "        j, split = tree['split']\n",
    "        filter_l = (X.iloc[:, j] < split)\n",
    "        X_l = X.loc[filter_l]\n",
    "        X_r = X.loc[~filter_l]\n",
    "\n",
    "        if X_l.shape[0] == 0:  # Si el nodo izquierdo está vacio solo continua con el derecho \n",
    "            predicted[~filter_l] = tree_predict(X_r, tree['sr'], proba)\n",
    "        elif X_r.shape[0] == 0:  #  Si el nodo derecho está vacio solo continua con el izquierdo\n",
    "            predicted[filter_l] = tree_predict(X_l, tree['sl'], proba)\n",
    "        else:\n",
    "            predicted[filter_l] = tree_predict(X_l, tree['sl'], proba)\n",
    "            predicted[~filter_l] = tree_predict(X_r, tree['sr'], proba)\n",
    "\n",
    "    return predicted"
   ]
  },
  {
   "cell_type": "code",
   "execution_count": 141,
   "metadata": {},
   "outputs": [
    {
     "data": {
      "text/plain": [
       "array([0., 0., 1., ..., 1., 0., 0.])"
      ]
     },
     "execution_count": 141,
     "metadata": {},
     "output_type": "execute_result"
    }
   ],
   "source": [
    "prediction = tree_predict(X_test, tree, proba=False)\n",
    "prediction"
   ]
  },
  {
   "cell_type": "code",
   "execution_count": 142,
   "metadata": {},
   "outputs": [
    {
     "data": {
      "text/plain": [
       "0.8830831408775982"
      ]
     },
     "execution_count": 142,
     "metadata": {},
     "output_type": "execute_result"
    }
   ],
   "source": [
    "accuracy_manual = np.sum(prediction==y_test)/prediction.shape[0]\n",
    "\n",
    "accuracy_manual\n",
    "\n",
    "\n"
   ]
  },
  {
   "cell_type": "markdown",
   "metadata": {},
   "source": [
    "El accuracy obtenido es de 0.8831 con el arbol estimado manualmente."
   ]
  },
  {
   "cell_type": "markdown",
   "metadata": {},
   "source": [
    "### Punto 2 - Bagging manual\n",
    "\n",
    "En la celda 2 creen un modelo bagging **manualmente** con 10 árboles de clasificación y comenten sobre el desempeño del modelo."
   ]
  },
  {
   "cell_type": "code",
   "execution_count": 118,
   "metadata": {},
   "outputs": [
    {
     "data": {
      "text/plain": [
       "[array([4390, 1069, 1974, ..., 6622, 3693, 4845]),\n",
       " array([3259, 5121, 6516, ..., 4790, 5933, 3270]),\n",
       " array([5101, 5526, 4995, ..., 1079, 1870, 5611]),\n",
       " array([1978,  796, 5720, ..., 5609, 2625, 1491]),\n",
       " array([6305, 6422,  203, ..., 3188, 1699, 6963]),\n",
       " array([1846, 3937, 5676, ..., 2573,  301, 1052]),\n",
       " array([ 588, 1684, 1192, ..., 2941, 4149, 1348]),\n",
       " array([ 802, 3388, 6581, ..., 1779, 4226, 2455]),\n",
       " array([5082, 3871, 6339, ..., 2163, 4847, 1097]),\n",
       " array([2406, 6488,  578, ..., 5785, 3036, 6680])]"
      ]
     },
     "execution_count": 118,
     "metadata": {},
     "output_type": "execute_result"
    }
   ],
   "source": [
    "# Celda 2\n",
    "\n",
    "#Se generan los índices de las muestras aleatorias\n",
    "\n",
    "n_samples = X_train.shape[0]\n",
    "n_B = 10\n",
    "\n",
    "samples = [np.random.choice(a=n_samples, size=n_samples, replace=True) for _ in range(1, n_B +1 )]\n",
    "samples"
   ]
  },
  {
   "cell_type": "code",
   "execution_count": 144,
   "metadata": {},
   "outputs": [
    {
     "data": {
      "text/html": [
       "<div>\n",
       "<style scoped>\n",
       "    .dataframe tbody tr th:only-of-type {\n",
       "        vertical-align: middle;\n",
       "    }\n",
       "\n",
       "    .dataframe tbody tr th {\n",
       "        vertical-align: top;\n",
       "    }\n",
       "\n",
       "    .dataframe thead tr th {\n",
       "        text-align: left;\n",
       "    }\n",
       "</style>\n",
       "<table border=\"1\" class=\"dataframe\">\n",
       "  <thead>\n",
       "    <tr>\n",
       "      <th></th>\n",
       "      <th>0</th>\n",
       "      <th>1</th>\n",
       "      <th>2</th>\n",
       "      <th>3</th>\n",
       "      <th>4</th>\n",
       "      <th>5</th>\n",
       "      <th>6</th>\n",
       "      <th>7</th>\n",
       "      <th>8</th>\n",
       "      <th>9</th>\n",
       "    </tr>\n",
       "  </thead>\n",
       "  <tbody>\n",
       "    <tr>\n",
       "      <th>257343</th>\n",
       "      <td>0.0</td>\n",
       "      <td>0.0</td>\n",
       "      <td>0.0</td>\n",
       "      <td>0.0</td>\n",
       "      <td>0.0</td>\n",
       "      <td>0.0</td>\n",
       "      <td>0.0</td>\n",
       "      <td>0.0</td>\n",
       "      <td>0.0</td>\n",
       "      <td>0.0</td>\n",
       "    </tr>\n",
       "    <tr>\n",
       "      <th>326011</th>\n",
       "      <td>0.0</td>\n",
       "      <td>0.0</td>\n",
       "      <td>0.0</td>\n",
       "      <td>0.0</td>\n",
       "      <td>0.0</td>\n",
       "      <td>0.0</td>\n",
       "      <td>0.0</td>\n",
       "      <td>0.0</td>\n",
       "      <td>0.0</td>\n",
       "      <td>0.0</td>\n",
       "    </tr>\n",
       "    <tr>\n",
       "      <th>242354</th>\n",
       "      <td>1.0</td>\n",
       "      <td>1.0</td>\n",
       "      <td>1.0</td>\n",
       "      <td>1.0</td>\n",
       "      <td>1.0</td>\n",
       "      <td>1.0</td>\n",
       "      <td>1.0</td>\n",
       "      <td>1.0</td>\n",
       "      <td>1.0</td>\n",
       "      <td>1.0</td>\n",
       "    </tr>\n",
       "    <tr>\n",
       "      <th>266376</th>\n",
       "      <td>1.0</td>\n",
       "      <td>1.0</td>\n",
       "      <td>1.0</td>\n",
       "      <td>1.0</td>\n",
       "      <td>1.0</td>\n",
       "      <td>1.0</td>\n",
       "      <td>1.0</td>\n",
       "      <td>1.0</td>\n",
       "      <td>1.0</td>\n",
       "      <td>1.0</td>\n",
       "    </tr>\n",
       "    <tr>\n",
       "      <th>396954</th>\n",
       "      <td>1.0</td>\n",
       "      <td>1.0</td>\n",
       "      <td>1.0</td>\n",
       "      <td>1.0</td>\n",
       "      <td>1.0</td>\n",
       "      <td>1.0</td>\n",
       "      <td>1.0</td>\n",
       "      <td>1.0</td>\n",
       "      <td>1.0</td>\n",
       "      <td>1.0</td>\n",
       "    </tr>\n",
       "    <tr>\n",
       "      <th>317876</th>\n",
       "      <td>0.0</td>\n",
       "      <td>0.0</td>\n",
       "      <td>0.0</td>\n",
       "      <td>0.0</td>\n",
       "      <td>0.0</td>\n",
       "      <td>0.0</td>\n",
       "      <td>0.0</td>\n",
       "      <td>0.0</td>\n",
       "      <td>0.0</td>\n",
       "      <td>0.0</td>\n",
       "    </tr>\n",
       "    <tr>\n",
       "      <th>127182</th>\n",
       "      <td>0.0</td>\n",
       "      <td>0.0</td>\n",
       "      <td>0.0</td>\n",
       "      <td>0.0</td>\n",
       "      <td>0.0</td>\n",
       "      <td>0.0</td>\n",
       "      <td>0.0</td>\n",
       "      <td>0.0</td>\n",
       "      <td>0.0</td>\n",
       "      <td>0.0</td>\n",
       "    </tr>\n",
       "    <tr>\n",
       "      <th>187272</th>\n",
       "      <td>1.0</td>\n",
       "      <td>0.0</td>\n",
       "      <td>0.0</td>\n",
       "      <td>1.0</td>\n",
       "      <td>0.0</td>\n",
       "      <td>0.0</td>\n",
       "      <td>1.0</td>\n",
       "      <td>1.0</td>\n",
       "      <td>0.0</td>\n",
       "      <td>0.0</td>\n",
       "    </tr>\n",
       "    <tr>\n",
       "      <th>372243</th>\n",
       "      <td>1.0</td>\n",
       "      <td>0.0</td>\n",
       "      <td>0.0</td>\n",
       "      <td>1.0</td>\n",
       "      <td>1.0</td>\n",
       "      <td>1.0</td>\n",
       "      <td>1.0</td>\n",
       "      <td>1.0</td>\n",
       "      <td>1.0</td>\n",
       "      <td>1.0</td>\n",
       "    </tr>\n",
       "    <tr>\n",
       "      <th>254404</th>\n",
       "      <td>1.0</td>\n",
       "      <td>1.0</td>\n",
       "      <td>1.0</td>\n",
       "      <td>1.0</td>\n",
       "      <td>1.0</td>\n",
       "      <td>1.0</td>\n",
       "      <td>1.0</td>\n",
       "      <td>1.0</td>\n",
       "      <td>1.0</td>\n",
       "      <td>1.0</td>\n",
       "    </tr>\n",
       "  </tbody>\n",
       "</table>\n",
       "</div>"
      ],
      "text/plain": [
       "          0    1    2    3    4    5    6    7    8    9\n",
       "257343  0.0  0.0  0.0  0.0  0.0  0.0  0.0  0.0  0.0  0.0\n",
       "326011  0.0  0.0  0.0  0.0  0.0  0.0  0.0  0.0  0.0  0.0\n",
       "242354  1.0  1.0  1.0  1.0  1.0  1.0  1.0  1.0  1.0  1.0\n",
       "266376  1.0  1.0  1.0  1.0  1.0  1.0  1.0  1.0  1.0  1.0\n",
       "396954  1.0  1.0  1.0  1.0  1.0  1.0  1.0  1.0  1.0  1.0\n",
       "317876  0.0  0.0  0.0  0.0  0.0  0.0  0.0  0.0  0.0  0.0\n",
       "127182  0.0  0.0  0.0  0.0  0.0  0.0  0.0  0.0  0.0  0.0\n",
       "187272  1.0  0.0  0.0  1.0  0.0  0.0  1.0  1.0  0.0  0.0\n",
       "372243  1.0  0.0  0.0  1.0  1.0  1.0  1.0  1.0  1.0  1.0\n",
       "254404  1.0  1.0  1.0  1.0  1.0  1.0  1.0  1.0  1.0  1.0"
      ]
     },
     "execution_count": 144,
     "metadata": {},
     "output_type": "execute_result"
    }
   ],
   "source": [
    "\n",
    "#Se construye un arbol de decision con cada muestra de bootstrap y se almacenan las predicciones\n",
    "\n",
    "\n",
    "y_pred = pd.DataFrame(index=X_test.index, columns=[list(range(n_B))])\n",
    "\n",
    "\n",
    "for i, sample in enumerate(samples):\n",
    "    X_train_i = X_train.iloc[sample,:]\n",
    "    y_train_i = y_train.iloc[sample]\n",
    "    tree_bag = tree_grow(X_train_i, y_train_i, max_depth=6)\n",
    "    y_pred.iloc[:,i] = tree_predict(X_test, tree_bag)\n",
    "\n",
    "y_pred.head(10)"
   ]
  },
  {
   "cell_type": "code",
   "execution_count": 136,
   "metadata": {},
   "outputs": [
    {
     "data": {
      "text/plain": [
       "257343    0\n",
       "326011    0\n",
       "242354    1\n",
       "266376    1\n",
       "396954    1\n",
       "         ..\n",
       "144298    1\n",
       "364521    1\n",
       "120072    1\n",
       "99878     0\n",
       "387162    0\n",
       "Length: 3464, dtype: int32"
      ]
     },
     "execution_count": 136,
     "metadata": {},
     "output_type": "execute_result"
    }
   ],
   "source": [
    "#Se calcula la prediccion para cada observacion mediante votacion mayoritaria\n",
    "\n",
    "prediccion_bag = (y_pred.sum(axis=1) >= (n_B / 2)).astype(np.int)\n",
    "\n",
    "prediccion_bag"
   ]
  },
  {
   "cell_type": "code",
   "execution_count": 137,
   "metadata": {},
   "outputs": [
    {
     "data": {
      "text/plain": [
       "0.8859699769053118"
      ]
     },
     "execution_count": 137,
     "metadata": {},
     "output_type": "execute_result"
    }
   ],
   "source": [
    "accuracy_bagging = np.sum(prediccion_bag==y_test)/prediction.shape[0]\n",
    "\n",
    "accuracy_bagging\n"
   ]
  },
  {
   "cell_type": "markdown",
   "metadata": {},
   "source": [
    "El accuracy obtenido es de 0.8859, ligeramente superior (aunque muy similar) al obtenido con un solo arbol (0.8831)"
   ]
  },
  {
   "cell_type": "markdown",
   "metadata": {},
   "source": [
    "### Punto 3 - Bagging con librería\n",
    "\n",
    "En la celda 3, con la librería sklearn, entrenen un modelo bagging con 10 árboles de clasificación y el parámetro `max_features` igual a `log(n_features)`. Presenten el acurracy del modelo en el set de test y comenten sus resultados."
   ]
  },
  {
   "cell_type": "code",
   "execution_count": 12,
   "metadata": {},
   "outputs": [
    {
     "data": {
      "text/plain": [
       "0.8646073903002309"
      ]
     },
     "execution_count": 12,
     "metadata": {},
     "output_type": "execute_result"
    }
   ],
   "source": [
    "# Celda 3\n",
    "from sklearn.ensemble import BaggingClassifier\n",
    "from sklearn.tree import DecisionTreeClassifier\n",
    "from sklearn import metrics\n",
    "\n",
    "clfBagging = BaggingClassifier(base_estimator=DecisionTreeClassifier(), n_estimators=10, max_features= int(np.log2(X_train.shape[1])), bootstrap=True,\n",
    "                        random_state=420, n_jobs=-1, oob_score=True)\n",
    "\n",
    "\n",
    "clfBagging.fit(X_train, y_train)\n",
    "\n",
    "predicted_clfBag = clfBagging.predict(X_test)\n",
    "\n",
    "accuracy_bagging_lib = metrics.accuracy_score(y_test, predicted_clfBag)\n",
    "\n",
    "accuracy_bagging_lib"
   ]
  },
  {
   "cell_type": "markdown",
   "metadata": {},
   "source": [
    "Al estimar el arbol mediante bagging con el parametro max_features = log2(10), para cada muestra de bootstrap tambien se escogerian aleatoriamente 3 variables explicativas para construir el arbol. Esto genera mas variabilidad. El accuracy estimado es de 0.86 el cual es un poco inferior a los estimados anteriormente."
   ]
  },
  {
   "cell_type": "markdown",
   "metadata": {},
   "source": [
    "### Punto 4 - Random forest con librería\n",
    "\n",
    "En la celda 4, usando la librería sklearn entrenen un modelo de Randon Forest para clasificación y presenten el acurracy del modelo en el set de test y comenten sus resultados."
   ]
  },
  {
   "cell_type": "code",
   "execution_count": 7,
   "metadata": {},
   "outputs": [
    {
     "data": {
      "text/plain": [
       "RandomForestClassifier()"
      ]
     },
     "execution_count": 7,
     "metadata": {},
     "output_type": "execute_result"
    }
   ],
   "source": [
    "# Celda 4\n",
    "from sklearn.ensemble import RandomForestClassifier\n",
    "\n",
    "\n",
    "clfRF = RandomForestClassifier()\n",
    "\n",
    "clfRF.fit(X_train , y_train)"
   ]
  },
  {
   "cell_type": "code",
   "execution_count": 206,
   "metadata": {},
   "outputs": [],
   "source": [
    "RFpredict = clfRF.predict(X_test)"
   ]
  },
  {
   "cell_type": "code",
   "execution_count": 207,
   "metadata": {},
   "outputs": [
    {
     "data": {
      "text/plain": [
       "0.8455542725173211"
      ]
     },
     "execution_count": 207,
     "metadata": {},
     "output_type": "execute_result"
    }
   ],
   "source": [
    "metrics.accuracy_score(y_test, RFpredict)"
   ]
  },
  {
   "cell_type": "markdown",
   "metadata": {},
   "source": [
    "El accuracy obtenido con el modelo de Random Forest es 0.845, inferior a los estimados anteriormente."
   ]
  },
  {
   "cell_type": "markdown",
   "metadata": {},
   "source": [
    "### Punto 5 - Calibración de parámetros Random forest\n",
    "\n",
    "En la celda 5, calibren los parámetros max_depth, max_features y n_estimators del modelo de Randon Forest para clasificación. Presenten el acurracy del modelo en el set de test, comenten sus resultados y análicen cómo cada parámetro afecta el modelo."
   ]
  },
  {
   "cell_type": "markdown",
   "metadata": {},
   "source": [
    "Para la calibracion se analizara cada parametro individualmente y finalmente se realizara un gridsearch para hayar el optimo."
   ]
  },
  {
   "cell_type": "code",
   "execution_count": 9,
   "metadata": {},
   "outputs": [],
   "source": [
    "# Celda 5\n",
    "from sklearn.model_selection import cross_val_score\n",
    "\n",
    "#Calibracion max_depth\n",
    "\n",
    "max_depths = np.arange(1,30,1)\n",
    "\n",
    "accuracy_max_depth = []\n",
    "\n",
    "for md in max_depths:\n",
    "\n",
    "    clfRF_md = RandomForestClassifier(max_depth=md)\n",
    "    accuracy_max_depth.append(cross_val_score(clfRF_md, X_train, y_train).mean())\n",
    "\n"
   ]
  },
  {
   "cell_type": "code",
   "execution_count": 10,
   "metadata": {},
   "outputs": [
    {
     "data": {
      "text/plain": [
       "Text(0, 0.5, 'Accuracy')"
      ]
     },
     "execution_count": 10,
     "metadata": {},
     "output_type": "execute_result"
    },
    {
     "data": {
      "image/png": "[encoded data removed]",
      "text/plain": [
       "<Figure size 432x288 with 1 Axes>"
      ]
     },
     "metadata": {
      "needs_background": "light"
     },
     "output_type": "display_data"
    }
   ],
   "source": [
    "import matplotlib.pyplot as plt\n",
    "plt.plot(max_depths, accuracy_max_depth)\n",
    "plt.xlabel('max_depth')\n",
    "plt.ylabel('Accuracy')"
   ]
  },
  {
   "cell_type": "markdown",
   "metadata": {},
   "source": [
    "Se encuentra que el accuracy aumenta en la medida que aumenta el max_depth a valores 6-7 y posteriormente empiza a disminuir (ya que probablemente se genera overfitting)"
   ]
  },
  {
   "cell_type": "code",
   "execution_count": 210,
   "metadata": {},
   "outputs": [],
   "source": [
    "max_features_r = np.arange(1,X_train.shape[1],1)\n",
    "\n",
    "accuracy_max_features = []\n",
    "\n",
    "for mf in max_features_r:\n",
    "\n",
    "    clfRF_mf = RandomForestClassifier(max_features=mf)\n",
    "    accuracy_max_features.append(cross_val_score(clfRF_mf, X_train, y_train).mean())\n"
   ]
  },
  {
   "cell_type": "code",
   "execution_count": 211,
   "metadata": {},
   "outputs": [
    {
     "data": {
      "text/plain": [
       "Text(0, 0.5, 'Accuracy')"
      ]
     },
     "execution_count": 211,
     "metadata": {},
     "output_type": "execute_result"
    },
    {
     "data": {
      "image/png": "[encoded data removed]",
      "text/plain": [
       "<Figure size 432x288 with 1 Axes>"
      ]
     },
     "metadata": {
      "needs_background": "light"
     },
     "output_type": "display_data"
    }
   ],
   "source": [
    "import matplotlib.pyplot as plt\n",
    "plt.plot(max_features_r, accuracy_max_features)\n",
    "plt.xlabel('max_features')\n",
    "plt.ylabel('Accuracy')"
   ]
  },
  {
   "cell_type": "markdown",
   "metadata": {},
   "source": [
    "Para el caso de los max_features se genera un mejor resultado cuando se consideran todas las variables explicativas en cada particion"
   ]
  },
  {
   "cell_type": "code",
   "execution_count": 23,
   "metadata": {},
   "outputs": [],
   "source": [
    "n_estimators_r = np.arange(1,300,10)\n",
    "\n",
    "accuracy_n_estimators = []\n",
    "roc_auc = []\n",
    "\n",
    "for n_est in n_estimators_r:\n",
    "\n",
    "    clfRF_ne = RandomForestClassifier(n_estimators=n_est)\n",
    "    accuracy_n_estimators.append(cross_val_score(clfRF_ne, X_train, y_train).mean())\n",
    "    clfRF_ne.fit(X_train,y_train)\n",
    "    prediccionRFprob = clfRF_ne.predict_proba(X_test)[:,1]\n",
    "    roc_auc.append(metrics.roc_auc_score(y_test, prediccionRFprob))"
   ]
  },
  {
   "cell_type": "code",
   "execution_count": 24,
   "metadata": {},
   "outputs": [
    {
     "data": {
      "text/plain": [
       "Text(0, 0.5, 'Accuracy')"
      ]
     },
     "execution_count": 24,
     "metadata": {},
     "output_type": "execute_result"
    },
    {
     "data": {
      "image/png": "[encoded data removed]",
      "text/plain": [
       "<Figure size 432x288 with 1 Axes>"
      ]
     },
     "metadata": {
      "needs_background": "light"
     },
     "output_type": "display_data"
    }
   ],
   "source": [
    "import matplotlib.pyplot as plt\n",
    "plt.plot(n_estimators_r, accuracy_n_estimators)\n",
    "plt.plot(n_estimators_r, roc_auc)\n",
    "plt.xlabel('n_estimators')\n",
    "plt.ylabel('Accuracy')"
   ]
  },
  {
   "cell_type": "markdown",
   "metadata": {},
   "source": [
    "El numero de estimadores calculados en el Random Forest es mayor cuando es un poco menor a 20. A partir de 20el accuracy tiene a ser mas estable, aunque con una ligera tendencia negativa."
   ]
  },
  {
   "cell_type": "code",
   "execution_count": 106,
   "metadata": {},
   "outputs": [
    {
     "data": {
      "text/plain": [
       "GridSearchCV(estimator=RandomForestClassifier(), n_jobs=-1,\n",
       "             param_grid={'max_depth': array([ 1,  2,  3,  4,  5,  6,  7,  8,  9, 10, 11, 12, 13, 14, 15, 16, 17,\n",
       "       18, 19, 20, 21, 22, 23, 24, 25, 26, 27, 28, 29]),\n",
       "                         'max_features': array([1, 2, 3, 4, 5, 6, 7, 8]),\n",
       "                         'n_estimators': array([ 1,  2,  3,  4,  5,  6,  7,  8,  9, 10, 11, 12, 13, 14, 15, 16, 17,\n",
       "       18, 19, 20, 21, 22, 23, 24, 25, 26, 27, 28, 29, 30, 31, 32, 33, 34,\n",
       "       35, 36, 37, 38, 39, 40, 41, 42, 43, 44, 45, 46, 47, 48, 49, 50, 51,\n",
       "       52, 53, 54, 55, 56, 57, 58, 59, 60, 61, 62, 63, 64, 65, 66, 67, 68,\n",
       "       69, 70, 71, 72, 73, 74, 75, 76, 77, 78, 79, 80, 81, 82, 83, 84, 85,\n",
       "       86, 87, 88, 89, 90, 91, 92, 93, 94, 95, 96, 97, 98, 99])})"
      ]
     },
     "execution_count": 106,
     "metadata": {},
     "output_type": "execute_result"
    }
   ],
   "source": [
    "# NO CORRER - Se demora mucho - gridsearch con todos los parametros\n",
    "\n",
    "from sklearn.model_selection import GridSearchCV\n",
    "\n",
    "clfRF=RandomForestClassifier()\n",
    "parameters = {'max_depth':max_depths , 'max_features': max_features_r, 'n_estimators': n_estimators_r}\n",
    "\n",
    "\n",
    "RF_calib = GridSearchCV(clfRF,parameters, n_jobs=-1)\n",
    "RF_calib.fit(X_train,y_train)"
   ]
  },
  {
   "cell_type": "code",
   "execution_count": 107,
   "metadata": {},
   "outputs": [
    {
     "data": {
      "text/plain": [
       "{'max_depth': 7, 'max_features': 2, 'n_estimators': 96}"
      ]
     },
     "execution_count": 107,
     "metadata": {},
     "output_type": "execute_result"
    }
   ],
   "source": [
    "RF_calib.best_params_"
   ]
  },
  {
   "cell_type": "code",
   "execution_count": 222,
   "metadata": {},
   "outputs": [
    {
     "data": {
      "text/plain": [
       "0.8859699769053118"
      ]
     },
     "execution_count": 222,
     "metadata": {},
     "output_type": "execute_result"
    }
   ],
   "source": [
    "#Se estima el modelo con los parametros optimos hallados con el gridsearch.\n",
    "\n",
    "clfRF_calib= RandomForestClassifier(max_depth=7, max_features=2, n_estimators=96)\n",
    "clfRF_calib.fit(X_train,y_train)\n",
    "predict_RF=clfRF_calib.predict(X_test)\n",
    "\n",
    "accuracy_RF_calib = metrics.accuracy_score(y_test, predict_RF)\n",
    "accuracy_RF_calib"
   ]
  },
  {
   "cell_type": "markdown",
   "metadata": {},
   "source": [
    "Se obtiene que el mejor modelo se obtiene con los siguientes parametros 'max_depth': 7, 'max_features': 2, 'n_estimators': 96. El accuracy obtenido es de 0.886 vs el obtenido anteriormente de 0.84 con el modelo sin calibrar."
   ]
  },
  {
   "cell_type": "markdown",
   "metadata": {},
   "source": [
    "### Punto 6 - XGBoost con librería\n",
    "\n",
    "En la celda 6 implementen un modelo XGBoost de clasificación con la librería sklearn, presenten el acurracy del modelo en el set de test y comenten sus resultados."
   ]
  },
  {
   "cell_type": "code",
   "execution_count": 57,
   "metadata": {},
   "outputs": [
    {
     "name": "stdout",
     "output_type": "stream",
     "text": [
      "[19:35:52] WARNING: D:\\bld\\xgboost-split_1645118015404\\work\\src\\learner.cc:1115: Starting in XGBoost 1.3.0, the default evaluation metric used with the objective 'binary:logistic' was changed from 'error' to 'logloss'. Explicitly set eval_metric if you'd like to restore the old behavior.\n"
     ]
    },
    {
     "data": {
      "text/plain": [
       "0.8856812933025404"
      ]
     },
     "execution_count": 57,
     "metadata": {},
     "output_type": "execute_result"
    }
   ],
   "source": [
    "# Celda 6\n",
    "from xgboost import XGBClassifier\n",
    "clfXGB = XGBClassifier()\n",
    "clfXGB.fit(X_train, y_train)\n",
    "\n",
    "predictXGB = clfXGB.predict(X_test)\n",
    "\n",
    "metrics.accuracy_score(y_test, predictXGB)"
   ]
  },
  {
   "cell_type": "code",
   "execution_count": 58,
   "metadata": {},
   "outputs": [
    {
     "data": {
      "text/plain": [
       "<bound method XGBModel.get_params of XGBClassifier(base_score=0.5, booster='gbtree', colsample_bylevel=1,\n",
       "              colsample_bynode=1, colsample_bytree=1, enable_categorical=False,\n",
       "              gamma=0, gpu_id=-1, importance_type=None,\n",
       "              interaction_constraints='', learning_rate=0.300000012,\n",
       "              max_delta_step=0, max_depth=6, min_child_weight=1, missing=nan,\n",
       "              monotone_constraints='()', n_estimators=100, n_jobs=16,\n",
       "              num_parallel_tree=1, predictor='auto', random_state=0,\n",
       "              reg_alpha=0, reg_lambda=1, scale_pos_weight=1, subsample=1,\n",
       "              tree_method='exact', validate_parameters=1, verbosity=None)>"
      ]
     },
     "execution_count": 58,
     "metadata": {},
     "output_type": "execute_result"
    }
   ],
   "source": [
    "clfXGB.get_params"
   ]
  },
  {
   "cell_type": "markdown",
   "metadata": {},
   "source": [
    "Sin calibrar los hiperparametros del XGBoost se obtiene un accuracy de 0.8856, parecido al obtenido con el Random Forest despues de calibrado."
   ]
  },
  {
   "cell_type": "markdown",
   "metadata": {},
   "source": [
    "### Punto 7 - Calibración de parámetros XGBoost\n",
    "\n",
    "En la celda 7 calibren los parámetros learning rate, gamma y colsample_bytree del modelo XGBoost para clasificación. Presenten el acurracy del modelo en el set de test, comenten sus resultados y análicen cómo cada parámetro afecta el modelo."
   ]
  },
  {
   "cell_type": "code",
   "execution_count": 59,
   "metadata": {},
   "outputs": [
    {
     "name": "stdout",
     "output_type": "stream",
     "text": [
      "[20:47:53] WARNING: D:\\bld\\xgboost-split_1645118015404\\work\\src\\learner.cc:1115: Starting in XGBoost 1.3.0, the default evaluation metric used with the objective 'binary:logistic' was changed from 'error' to 'logloss'. Explicitly set eval_metric if you'd like to restore the old behavior.\n"
     ]
    },
    {
     "data": {
      "text/plain": [
       "GridSearchCV(estimator=XGBClassifier(base_score=None, booster=None,\n",
       "                                     colsample_bylevel=None,\n",
       "                                     colsample_bynode=None,\n",
       "                                     colsample_bytree=None,\n",
       "                                     enable_categorical=False, gamma=None,\n",
       "                                     gpu_id=None, importance_type=None,\n",
       "                                     interaction_constraints=None,\n",
       "                                     learning_rate=None, max_delta_step=None,\n",
       "                                     max_depth=None, min_child_weight=None,\n",
       "                                     missing=nan, monotone_constraints=None,\n",
       "                                     n_est...\n",
       "                                     validate_parameters=None, verbosity=None),\n",
       "             n_jobs=-1,\n",
       "             param_grid={'colsample_bytree': array([0.1, 0.3, 0.5, 0.7, 0.9]),\n",
       "                         'eta': array([0. , 0.1, 0.2, 0.3, 0.4, 0.5, 0.6, 0.7, 0.8, 0.9]),\n",
       "                         'gamma': array([ 0. ,  0.2,  0.4,  0.6,  0.8,  1. ,  1.2,  1.4,  1.6,  1.8,  2. ,\n",
       "        2.2,  2.4,  2.6,  2.8,  3. ,  3.2,  3.4,  3.6,  3.8,  4. ,  4.2,\n",
       "        4.4,  4.6,  4.8,  5. ,  5.2,  5.4,  5.6,  5.8,  6. ,  6.2,  6.4,\n",
       "        6.6,  6.8,  7. ,  7.2,  7.4,  7.6,  7.8,  8. ,  8.2,  8.4,  8.6,\n",
       "        8.8,  9. ,  9.2,  9.4,  9.6,  9.8, 10. ])})"
      ]
     },
     "execution_count": 59,
     "metadata": {},
     "output_type": "execute_result"
    }
   ],
   "source": [
    "#NO CORRER - Se demora mucho. - Se realiza Gridsearch para buscar los parametros optimos.\n",
    "\n",
    "# Celda 7\n",
    "from sklearn.model_selection import GridSearchCV\n",
    "from sklearn.model_selection import cross_val_score\n",
    "\n",
    "#Learning rate\n",
    "\n",
    "learning_rate_range = np.arange(0.0,1,0.1)\n",
    "gamma_r = np.arange(0,10.2,0.2)\n",
    "colsample_bytree_r = np.arange(0.1, 1 , 0.2)\n",
    "\n",
    "\n",
    "clfXGB2=XGBClassifier()\n",
    "parameters = {'eta':learning_rate_range , 'gamma': gamma_r, 'colsample_bytree': colsample_bytree_r}\n",
    "XGB_calib = GridSearchCV(clfXGB2,parameters, n_jobs=-1)\n",
    "XGB_calib.fit(X_train,y_train)"
   ]
  },
  {
   "cell_type": "code",
   "execution_count": 60,
   "metadata": {},
   "outputs": [
    {
     "data": {
      "text/plain": [
       "0.8891454965357968"
      ]
     },
     "execution_count": 60,
     "metadata": {},
     "output_type": "execute_result"
    }
   ],
   "source": [
    "predictXGBcalib = XGB_calib.predict(X_test)\n",
    "\n",
    "metrics.accuracy_score(y_test, predictXGBcalib)\n"
   ]
  },
  {
   "cell_type": "code",
   "execution_count": 61,
   "metadata": {},
   "outputs": [
    {
     "data": {
      "text/plain": [
       "{'colsample_bytree': 0.5000000000000001,\n",
       " 'eta': 0.30000000000000004,\n",
       " 'gamma': 8.6,\n",
       " 'objective': 'binary:logistic'}"
      ]
     },
     "execution_count": 61,
     "metadata": {},
     "output_type": "execute_result"
    }
   ],
   "source": [
    "params = XGB_calib.best_params_\n",
    "\n",
    "params['objective'] = 'binary:logistic'\n",
    "params"
   ]
  },
  {
   "cell_type": "markdown",
   "metadata": {},
   "source": [
    "Se encuentra que los mejores parametros son considerar 50% de las variables explicativas en cada arbol, learning rate de 0.3, y un gamma (disminucion minima en la perdidad para hacer una particion) del 8.6"
   ]
  },
  {
   "cell_type": "code",
   "execution_count": 218,
   "metadata": {},
   "outputs": [
    {
     "name": "stdout",
     "output_type": "stream",
     "text": [
      "[23:38:56] WARNING: D:\\bld\\xgboost-split_1645118015404\\work\\src\\learner.cc:1115: Starting in XGBoost 1.3.0, the default evaluation metric used with the objective 'binary:logistic' was changed from 'error' to 'logloss'. Explicitly set eval_metric if you'd like to restore the old behavior.\n"
     ]
    },
    {
     "data": {
      "text/plain": [
       "0.8891454965357968"
      ]
     },
     "execution_count": 218,
     "metadata": {},
     "output_type": "execute_result"
    }
   ],
   "source": [
    "#Se estima el modelo con los parametros optimos\n",
    "\n",
    "clfXGB = XGBClassifier( **params )\n",
    "clfXGB.fit(X_train, y_train)\n",
    "\n",
    "predictXGB = clfXGB.predict(X_test)\n",
    "\n",
    "accuracy_xgb_calib = metrics.accuracy_score(y_test, predictXGB)\n",
    "\n",
    "accuracy_xgb_calib"
   ]
  },
  {
   "cell_type": "markdown",
   "metadata": {},
   "source": [
    "El accuracy estimado es un poco superior al encontrado con el modelo XGBoost sin calibrar."
   ]
  },
  {
   "cell_type": "markdown",
   "metadata": {},
   "source": [
    "### Punto 8 - Comparación y análisis de resultados\n",
    "En la celda 8 comparen los resultados obtenidos de los diferentes modelos (random forest y XGBoost) y comenten las ventajas del mejor modelo y las desventajas del modelo con el menor desempeño."
   ]
  },
  {
   "cell_type": "code",
   "execution_count": 250,
   "metadata": {},
   "outputs": [
    {
     "data": {
      "image/png": "[encoded data removed]",
      "text/plain": [
       "<Figure size 432x288 with 1 Axes>"
      ]
     },
     "metadata": {
      "needs_background": "light"
     },
     "output_type": "display_data"
    }
   ],
   "source": [
    "# Celda 8\n",
    "\n",
    "modelos = ['DT_Manual' , 'Bagging_DT', 'Rand Forest', 'XGBoost' ]\n",
    "valores = [accuracy_manual, accuracy_bagging, accuracy_RF_calib, accuracy_xgb_calib ]\n",
    "xpos = np.arange(len(valores))\n",
    "\n",
    "plt.bar(modelos, valores)\n",
    "\n",
    "for i, v in enumerate(valores):\n",
    "    plt.text( x= xpos[i]-0.3, y=v, s = str(v)[0:6], verticalalignment='bottom')"
   ]
  },
  {
   "cell_type": "markdown",
   "metadata": {},
   "source": [
    "Los diferentes modelos tienen un desempeño muy parecido cuando comparamos el accuracy. El XGBoost tiene un Accuracy mayor de 0.8891 vs el arbol de decision manual, que tiene un accuracy de 0.8830. Si se tiene en cuenta que la ganancia de modelo de arbol de decision comparado con XGBoost es marginal, seria mejor escoger el modelo de arbol de decision por su facilidad de interpretacion.\n",
    "\n"
   ]
  },
  {
   "cell_type": "markdown",
   "metadata": {},
   "source": [
    "Al comparar los diferentes modelo se encuentra que XGBoost es un modelo versatil ya que incluye varias mejoras como el tree prunning, imputacion de datos faltantes y cross validation, esto hace que el algoritmo tenga un buen desempeno incluso antes de calibrar, sin embargo se pierde la interpretabilidad. XGBoost es un modelo de Boosting, en el sentido que se realizan arboles de decision de manera secuencial, en la que cada arbol aprende de los errores de los arboles anteriores. \n",
    "Por el contrario, Random Forest genera arboles de manera paralela y al final se toma la votacion de los diferentes arboles. Aunque Random Forest no hace imputacion de valores faltantes, este algoritmo no se ve muy afectado por la existencia de los mismos. Random Forest genera variabilidad mediante bootstrap y mediante seleccion de variables explicativas de manera aleatoria para la construccion de cada arbol, lo que permite mejorar las predicciones."
   ]
  }
 ],
 "metadata": {
  "kernelspec": {
   "display_name": "Python 3",
   "language": "python",
   "name": "python3"
  },
  "language_info": {
   "codemirror_mode": {
    "name": "ipython",
    "version": 3
   },
   "file_extension": ".py",
   "mimetype": "text/x-python",
   "name": "python",
   "nbconvert_exporter": "python",
   "pygments_lexer": "ipython3",
   "version": "3.10.0"
  }
 },
 "nbformat": 4,
 "nbformat_minor": 4
}
