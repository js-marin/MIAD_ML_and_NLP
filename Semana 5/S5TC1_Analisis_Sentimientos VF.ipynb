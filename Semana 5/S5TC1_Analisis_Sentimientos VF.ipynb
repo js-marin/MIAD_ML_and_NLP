{
 "cells": [
  {
   "cell_type": "markdown",
   "metadata": {},
   "source": [
    "![image info](https://raw.githubusercontent.com/albahnsen/MIAD_ML_and_NLP/main/images/banner_1.png)"
   ]
  },
  {
   "cell_type": "markdown",
   "metadata": {},
   "source": [
    "# Taller: Análisis de sentimientos y técnicas de NLP\n",
    "\n",
    "En este taller podrán poner en práctica sus conocimientos sobre las diferentes técnicas para el procesamiento de lenguaje natural. El taller está constituido por 5 puntos, en los cuales deberan seguir las intrucciones de cada numeral para su desarrollo."
   ]
  },
  {
   "cell_type": "markdown",
   "metadata": {},
   "source": [
    "## Datos predicción sentimientos de viajeros en Twitter\n",
    "\n",
    "En este taller se usará el conjunto de datos de sentimientos sobre distintas aerolíneas de EE.UU. provenientes de Twitter. Cada observación contiene si el sentimiento de los tweets es positivo, neutral o negativo teniendo en cuenta distintas variables como aerolínea y las razones de los sentimientos negativos (como \"retraso en el vuelo\" o \"servicio grosero\"). El objetivo es predecir el sentimiento asociado a cada tweet. Para más detalles pueden visitar el siguiente enlace: [datos](https://www.kaggle.com/crowdflower/twitter-airline-sentiment)."
   ]
  },
  {
   "cell_type": "code",
   "execution_count": 1,
   "metadata": {},
   "outputs": [],
   "source": [
    "import warnings\n",
    "warnings.filterwarnings('ignore')"
   ]
  },
  {
   "cell_type": "code",
   "execution_count": 2,
   "metadata": {},
   "outputs": [],
   "source": [
    "# Importación de librerías\n",
    "import pandas as pd\n",
    "import numpy as np\n",
    "%matplotlib inline\n",
    "import matplotlib.pyplot as plt"
   ]
  },
  {
   "cell_type": "code",
   "execution_count": 3,
   "metadata": {},
   "outputs": [
    {
     "data": {
      "text/html": [
       "<div>\n",
       "<style scoped>\n",
       "    .dataframe tbody tr th:only-of-type {\n",
       "        vertical-align: middle;\n",
       "    }\n",
       "\n",
       "    .dataframe tbody tr th {\n",
       "        vertical-align: top;\n",
       "    }\n",
       "\n",
       "    .dataframe thead th {\n",
       "        text-align: right;\n",
       "    }\n",
       "</style>\n",
       "<table border=\"1\" class=\"dataframe\">\n",
       "  <thead>\n",
       "    <tr style=\"text-align: right;\">\n",
       "      <th></th>\n",
       "      <th>airline_sentiment</th>\n",
       "      <th>airline_sentiment_confidence</th>\n",
       "      <th>negativereason</th>\n",
       "      <th>negativereason_confidence</th>\n",
       "      <th>airline</th>\n",
       "      <th>airline_sentiment_gold</th>\n",
       "      <th>name</th>\n",
       "      <th>negativereason_gold</th>\n",
       "      <th>retweet_count</th>\n",
       "      <th>text</th>\n",
       "      <th>tweet_coord</th>\n",
       "      <th>tweet_created</th>\n",
       "      <th>tweet_location</th>\n",
       "      <th>user_timezone</th>\n",
       "    </tr>\n",
       "    <tr>\n",
       "      <th>tweet_id</th>\n",
       "      <th></th>\n",
       "      <th></th>\n",
       "      <th></th>\n",
       "      <th></th>\n",
       "      <th></th>\n",
       "      <th></th>\n",
       "      <th></th>\n",
       "      <th></th>\n",
       "      <th></th>\n",
       "      <th></th>\n",
       "      <th></th>\n",
       "      <th></th>\n",
       "      <th></th>\n",
       "      <th></th>\n",
       "    </tr>\n",
       "  </thead>\n",
       "  <tbody>\n",
       "    <tr>\n",
       "      <th>570306133677760513</th>\n",
       "      <td>neutral</td>\n",
       "      <td>1.0000</td>\n",
       "      <td>NaN</td>\n",
       "      <td>NaN</td>\n",
       "      <td>Virgin America</td>\n",
       "      <td>NaN</td>\n",
       "      <td>cairdin</td>\n",
       "      <td>NaN</td>\n",
       "      <td>0</td>\n",
       "      <td>@VirginAmerica What @dhepburn said.</td>\n",
       "      <td>NaN</td>\n",
       "      <td>2015-02-24 11:35:52 -0800</td>\n",
       "      <td>NaN</td>\n",
       "      <td>Eastern Time (US &amp; Canada)</td>\n",
       "    </tr>\n",
       "    <tr>\n",
       "      <th>570301130888122368</th>\n",
       "      <td>positive</td>\n",
       "      <td>0.3486</td>\n",
       "      <td>NaN</td>\n",
       "      <td>0.0000</td>\n",
       "      <td>Virgin America</td>\n",
       "      <td>NaN</td>\n",
       "      <td>jnardino</td>\n",
       "      <td>NaN</td>\n",
       "      <td>0</td>\n",
       "      <td>@VirginAmerica plus you've added commercials t...</td>\n",
       "      <td>NaN</td>\n",
       "      <td>2015-02-24 11:15:59 -0800</td>\n",
       "      <td>NaN</td>\n",
       "      <td>Pacific Time (US &amp; Canada)</td>\n",
       "    </tr>\n",
       "    <tr>\n",
       "      <th>570301083672813571</th>\n",
       "      <td>neutral</td>\n",
       "      <td>0.6837</td>\n",
       "      <td>NaN</td>\n",
       "      <td>NaN</td>\n",
       "      <td>Virgin America</td>\n",
       "      <td>NaN</td>\n",
       "      <td>yvonnalynn</td>\n",
       "      <td>NaN</td>\n",
       "      <td>0</td>\n",
       "      <td>@VirginAmerica I didn't today... Must mean I n...</td>\n",
       "      <td>NaN</td>\n",
       "      <td>2015-02-24 11:15:48 -0800</td>\n",
       "      <td>Lets Play</td>\n",
       "      <td>Central Time (US &amp; Canada)</td>\n",
       "    </tr>\n",
       "    <tr>\n",
       "      <th>570301031407624196</th>\n",
       "      <td>negative</td>\n",
       "      <td>1.0000</td>\n",
       "      <td>Bad Flight</td>\n",
       "      <td>0.7033</td>\n",
       "      <td>Virgin America</td>\n",
       "      <td>NaN</td>\n",
       "      <td>jnardino</td>\n",
       "      <td>NaN</td>\n",
       "      <td>0</td>\n",
       "      <td>@VirginAmerica it's really aggressive to blast...</td>\n",
       "      <td>NaN</td>\n",
       "      <td>2015-02-24 11:15:36 -0800</td>\n",
       "      <td>NaN</td>\n",
       "      <td>Pacific Time (US &amp; Canada)</td>\n",
       "    </tr>\n",
       "    <tr>\n",
       "      <th>570300817074462722</th>\n",
       "      <td>negative</td>\n",
       "      <td>1.0000</td>\n",
       "      <td>Can't Tell</td>\n",
       "      <td>1.0000</td>\n",
       "      <td>Virgin America</td>\n",
       "      <td>NaN</td>\n",
       "      <td>jnardino</td>\n",
       "      <td>NaN</td>\n",
       "      <td>0</td>\n",
       "      <td>@VirginAmerica and it's a really big bad thing...</td>\n",
       "      <td>NaN</td>\n",
       "      <td>2015-02-24 11:14:45 -0800</td>\n",
       "      <td>NaN</td>\n",
       "      <td>Pacific Time (US &amp; Canada)</td>\n",
       "    </tr>\n",
       "  </tbody>\n",
       "</table>\n",
       "</div>"
      ],
      "text/plain": [
       "                   airline_sentiment  airline_sentiment_confidence  \\\n",
       "tweet_id                                                             \n",
       "570306133677760513           neutral                        1.0000   \n",
       "570301130888122368          positive                        0.3486   \n",
       "570301083672813571           neutral                        0.6837   \n",
       "570301031407624196          negative                        1.0000   \n",
       "570300817074462722          negative                        1.0000   \n",
       "\n",
       "                   negativereason  negativereason_confidence         airline  \\\n",
       "tweet_id                                                                       \n",
       "570306133677760513            NaN                        NaN  Virgin America   \n",
       "570301130888122368            NaN                     0.0000  Virgin America   \n",
       "570301083672813571            NaN                        NaN  Virgin America   \n",
       "570301031407624196     Bad Flight                     0.7033  Virgin America   \n",
       "570300817074462722     Can't Tell                     1.0000  Virgin America   \n",
       "\n",
       "                   airline_sentiment_gold        name negativereason_gold  \\\n",
       "tweet_id                                                                    \n",
       "570306133677760513                    NaN     cairdin                 NaN   \n",
       "570301130888122368                    NaN    jnardino                 NaN   \n",
       "570301083672813571                    NaN  yvonnalynn                 NaN   \n",
       "570301031407624196                    NaN    jnardino                 NaN   \n",
       "570300817074462722                    NaN    jnardino                 NaN   \n",
       "\n",
       "                    retweet_count  \\\n",
       "tweet_id                            \n",
       "570306133677760513              0   \n",
       "570301130888122368              0   \n",
       "570301083672813571              0   \n",
       "570301031407624196              0   \n",
       "570300817074462722              0   \n",
       "\n",
       "                                                                 text  \\\n",
       "tweet_id                                                                \n",
       "570306133677760513                @VirginAmerica What @dhepburn said.   \n",
       "570301130888122368  @VirginAmerica plus you've added commercials t...   \n",
       "570301083672813571  @VirginAmerica I didn't today... Must mean I n...   \n",
       "570301031407624196  @VirginAmerica it's really aggressive to blast...   \n",
       "570300817074462722  @VirginAmerica and it's a really big bad thing...   \n",
       "\n",
       "                   tweet_coord              tweet_created tweet_location  \\\n",
       "tweet_id                                                                   \n",
       "570306133677760513         NaN  2015-02-24 11:35:52 -0800            NaN   \n",
       "570301130888122368         NaN  2015-02-24 11:15:59 -0800            NaN   \n",
       "570301083672813571         NaN  2015-02-24 11:15:48 -0800      Lets Play   \n",
       "570301031407624196         NaN  2015-02-24 11:15:36 -0800            NaN   \n",
       "570300817074462722         NaN  2015-02-24 11:14:45 -0800            NaN   \n",
       "\n",
       "                                 user_timezone  \n",
       "tweet_id                                        \n",
       "570306133677760513  Eastern Time (US & Canada)  \n",
       "570301130888122368  Pacific Time (US & Canada)  \n",
       "570301083672813571  Central Time (US & Canada)  \n",
       "570301031407624196  Pacific Time (US & Canada)  \n",
       "570300817074462722  Pacific Time (US & Canada)  "
      ]
     },
     "execution_count": 3,
     "metadata": {},
     "output_type": "execute_result"
    }
   ],
   "source": [
    "# Lectura de la información de archivo .zip\n",
    "tweets = pd.read_csv('https://raw.githubusercontent.com/albahnsen/MIAD_ML_and_NLP/main/datasets/Tweets.zip', index_col=0)\n",
    "\n",
    "# Visualización dataset\n",
    "tweets.head()"
   ]
  },
  {
   "cell_type": "code",
   "execution_count": 4,
   "metadata": {},
   "outputs": [
    {
     "data": {
      "text/plain": [
       "(14640, 14)"
      ]
     },
     "execution_count": 4,
     "metadata": {},
     "output_type": "execute_result"
    }
   ],
   "source": [
    "# Impresión tamaño del cojunto de datos\n",
    "tweets.shape"
   ]
  },
  {
   "cell_type": "markdown",
   "metadata": {},
   "source": [
    "### Análisis descriptivo"
   ]
  },
  {
   "cell_type": "code",
   "execution_count": 5,
   "metadata": {},
   "outputs": [
    {
     "data": {
      "text/plain": [
       "negative    9178\n",
       "neutral     3099\n",
       "positive    2363\n",
       "Name: airline_sentiment, dtype: int64"
      ]
     },
     "execution_count": 5,
     "metadata": {},
     "output_type": "execute_result"
    }
   ],
   "source": [
    "# Cuenta de tweets por cada sentimiento\n",
    "tweets['airline_sentiment'].value_counts()"
   ]
  },
  {
   "cell_type": "markdown",
   "metadata": {},
   "source": [
    "Se evidencia que las observaciones estan desbalanceadas hacias comentarios negativos."
   ]
  },
  {
   "cell_type": "code",
   "execution_count": 6,
   "metadata": {},
   "outputs": [
    {
     "data": {
      "text/plain": [
       "United            3822\n",
       "US Airways        2913\n",
       "American          2759\n",
       "Southwest         2420\n",
       "Delta             2222\n",
       "Virgin America     504\n",
       "Name: airline, dtype: int64"
      ]
     },
     "execution_count": 6,
     "metadata": {},
     "output_type": "execute_result"
    }
   ],
   "source": [
    "# Cuenta de tweets por cada aerolínea\n",
    "tweets['airline'].value_counts()"
   ]
  },
  {
   "cell_type": "code",
   "execution_count": 7,
   "metadata": {},
   "outputs": [
    {
     "data": {
      "text/plain": [
       "<AxesSubplot:title={'center':'Sentimientos por aerolínea'}, xlabel='airline'>"
      ]
     },
     "execution_count": 7,
     "metadata": {},
     "output_type": "execute_result"
    },
    {
     "data": {
      "image/png": "[encoded data removed]",
      "text/plain": [
       "<Figure size 720x432 with 1 Axes>"
      ]
     },
     "metadata": {
      "needs_background": "light"
     },
     "output_type": "display_data"
    }
   ],
   "source": [
    "# Plot con cuenta de tweets por cada aerolínea y sentimiento\n",
    "pd.crosstab(index = tweets[\"airline\"],columns = tweets[\"airline_sentiment\"]).plot(kind='bar',figsize=(10, 6),alpha=0.5,rot=0,stacked=True,title=\"Sentimientos por aerolínea\")"
   ]
  },
  {
   "cell_type": "code",
   "execution_count": 8,
   "metadata": {},
   "outputs": [
    {
     "data": {
      "text/plain": [
       "airline_sentiment                   0\n",
       "airline_sentiment_confidence        0\n",
       "negativereason                   5462\n",
       "negativereason_confidence        4118\n",
       "airline                             0\n",
       "airline_sentiment_gold          14600\n",
       "name                                0\n",
       "negativereason_gold             14608\n",
       "retweet_count                       0\n",
       "text                                0\n",
       "tweet_coord                     13621\n",
       "tweet_created                       0\n",
       "tweet_location                   4733\n",
       "user_timezone                    4820\n",
       "dtype: int64"
      ]
     },
     "execution_count": 8,
     "metadata": {},
     "output_type": "execute_result"
    }
   ],
   "source": [
    "#tweets.columns\n",
    "#tweets.info()\n",
    "tweets.isna().sum()"
   ]
  },
  {
   "cell_type": "markdown",
   "metadata": {},
   "source": [
    "### Liberias y Variables de interés y predicción"
   ]
  },
  {
   "cell_type": "code",
   "execution_count": 9,
   "metadata": {},
   "outputs": [],
   "source": [
    "from sklearn.model_selection import train_test_split, cross_val_score\n",
    "from sklearn.feature_extraction.text import CountVectorizer, TfidfVectorizer\n",
    "from sklearn.ensemble import RandomForestClassifier\n",
    "from nltk.stem.snowball import SnowballStemmer\n",
    "from nltk.stem import WordNetLemmatizer"
   ]
  },
  {
   "cell_type": "code",
   "execution_count": 10,
   "metadata": {},
   "outputs": [],
   "source": [
    "# Separación de variables predictoras (X) y de variable de interés (y)\n",
    "X = tweets['text']\n",
    "y = tweets['airline_sentiment'].map({'negative':-1,'neutral':0,'positive':1})"
   ]
  },
  {
   "cell_type": "code",
   "execution_count": 11,
   "metadata": {},
   "outputs": [],
   "source": [
    "# Separación de datos en set de entrenamiento y test\n",
    "X_train, X_test, y_train, y_test = train_test_split(X, y, test_size=0.33, random_state=42)"
   ]
  },
  {
   "cell_type": "code",
   "execution_count": 12,
   "metadata": {},
   "outputs": [
    {
     "name": "stdout",
     "output_type": "stream",
     "text": [
      "Tamano XTrain: (9808,)\n",
      "Tamano YTrain: (9808,)\n"
     ]
    },
    {
     "data": {
      "text/plain": [
       "tweet_id\n",
       "569577005278064640                          @JetBlue of course I am!!✈️\n",
       "569633482915209216    @AmericanAir complt incompetence on flt 295.La...\n",
       "567829997668470785    @SouthwestAir Flight 4968 (N8325D) departs @MC...\n",
       "569725021951791104    @USAirways does anyone from your airline know ...\n",
       "567852278893416448                           @united I Want a Plane dad\n",
       "Name: text, dtype: object"
      ]
     },
     "metadata": {},
     "output_type": "display_data"
    },
    {
     "data": {
      "text/plain": [
       "tweet_id\n",
       "569577005278064640    0\n",
       "569633482915209216   -1\n",
       "567829997668470785   -1\n",
       "569725021951791104   -1\n",
       "567852278893416448    0\n",
       "Name: airline_sentiment, dtype: int64"
      ]
     },
     "metadata": {},
     "output_type": "display_data"
    }
   ],
   "source": [
    "#Exploracion set de entrenamiento, se cuenta con 9.808 documentos\n",
    "print('Tamano XTrain:' , X_train.shape)\n",
    "print('Tamano YTrain:' , y_train.shape)\n",
    "\n",
    "display(X_train.head())\n",
    "display(y_train.head())"
   ]
  },
  {
   "cell_type": "markdown",
   "metadata": {},
   "source": [
    "### Punto 1 - Uso de CountVectorizer\n",
    "\n",
    "En la celda 1 creen un modelo de random forest con la libreria sklearn que prediga el sentimiento de los tweets usando los set de entrenamiento y test definidos anteriormente. Usen la función **CountVectorizer** y presenten el desempeño del modelo con la métrica del acurracy.\n",
    "\n",
    "Recuerden que el preprocesamiento que se haga sobre los datos de entrenamiento  (*.fit_transform()*) deben ser aplicado al set de test (*.transform()*)."
   ]
  },
  {
   "cell_type": "code",
   "execution_count": 17,
   "metadata": {},
   "outputs": [],
   "source": [
    "from sklearn.ensemble import RandomForestClassifier\n",
    "from sklearn.model_selection import GridSearchCV"
   ]
  },
  {
   "cell_type": "code",
   "execution_count": 18,
   "metadata": {},
   "outputs": [],
   "source": [
    "# Creación de matrices de documentos usando CountVectorizer a partir de X\n",
    "vect1 = CountVectorizer(min_df = 0.01)\n",
    "X1 = vect1.fit_transform(X_train)\n"
   ]
  },
  {
   "cell_type": "code",
   "execution_count": 19,
   "metadata": {},
   "outputs": [],
   "source": [
    "# Definición de modelo Random Forest para un problema de clasificación\n",
    "clf1 = RandomForestClassifier()"
   ]
  },
  {
   "cell_type": "code",
   "execution_count": 20,
   "metadata": {},
   "outputs": [],
   "source": [
    "# Se calibra un modelo de Random Forest \n",
    "max_depths = [10, 30 , 50 , 100]\n",
    "n_estimators = [10, 30, 50 ]\n",
    "parameters = {'max_depth':max_depths , 'n_estimators': n_estimators}\n",
    "\n",
    "clf1 = RandomForestClassifier(max_features='log2')\n",
    "clf1_calib = GridSearchCV(clf1, parameters, n_jobs=-1)"
   ]
  },
  {
   "cell_type": "code",
   "execution_count": 21,
   "metadata": {},
   "outputs": [
    {
     "data": {
      "text/plain": [
       "GridSearchCV(estimator=RandomForestClassifier(max_features='log2'), n_jobs=-1,\n",
       "             param_grid={'max_depth': [10, 30, 50, 100],\n",
       "                         'n_estimators': [10, 30, 50]})"
      ]
     },
     "execution_count": 21,
     "metadata": {},
     "output_type": "execute_result"
    }
   ],
   "source": [
    "#Calibración del modelo\n",
    "clf1_calib.fit(X1,y_train)"
   ]
  },
  {
   "cell_type": "code",
   "execution_count": 22,
   "metadata": {},
   "outputs": [
    {
     "data": {
      "text/plain": [
       "RandomForestClassifier(max_depth=100, max_features='log2', n_estimators=50)"
      ]
     },
     "execution_count": 22,
     "metadata": {},
     "output_type": "execute_result"
    }
   ],
   "source": [
    "#Mejores parámetros obtenidos\n",
    "clf1_calib.best_estimator_"
   ]
  },
  {
   "cell_type": "code",
   "execution_count": 23,
   "metadata": {},
   "outputs": [],
   "source": [
    "#Se realiza la transformación del CountVectorizer sobre X_Test\n",
    "X1_test = vect1.transform(X_test)"
   ]
  },
  {
   "cell_type": "code",
   "execution_count": 24,
   "metadata": {},
   "outputs": [],
   "source": [
    "#Se estima la predicción\n",
    "predict1 = clf1_calib.predict(X1_test)"
   ]
  },
  {
   "cell_type": "code",
   "execution_count": 25,
   "metadata": {},
   "outputs": [],
   "source": [
    "from sklearn.metrics import accuracy_score\n",
    "from sklearn.metrics import confusion_matrix\n",
    "from sklearn.metrics import ConfusionMatrixDisplay\n"
   ]
  },
  {
   "cell_type": "code",
   "execution_count": 26,
   "metadata": {},
   "outputs": [
    {
     "data": {
      "image/png": "[encoded data removed]",
      "text/plain": [
       "<Figure size 432x288 with 2 Axes>"
      ]
     },
     "metadata": {
      "needs_background": "light"
     },
     "output_type": "display_data"
    }
   ],
   "source": [
    "cm = ConfusionMatrixDisplay(confusion_matrix(y_test, predict1),display_labels = clf1_calib.classes_)\n",
    "cm.plot()\n",
    "plt.show()"
   ]
  },
  {
   "cell_type": "code",
   "execution_count": 27,
   "metadata": {},
   "outputs": [
    {
     "name": "stdout",
     "output_type": "stream",
     "text": [
      "0.7557947019867549\n"
     ]
    }
   ],
   "source": [
    "# métrica para evaluar modelos de clasificación. \n",
    "# Es la fracción de predicciones que el modelo realiza correctamente.\n",
    "accuracy_vect = accuracy_score(y_test, predict1)\n",
    "print(accuracy_vect)"
   ]
  },
  {
   "cell_type": "markdown",
   "metadata": {},
   "source": [
    "### Punto 2 - Eliminación de Stopwords\n",
    "\n",
    "En la celda 2 creen un modelo de random forest con la libreria sklearn que prediga el sentimiento de los tweets usando los set de entrenamiento y test definidos anteriormente. Usen la función CountVectorizer, **eliminen stopwords** y presenten el desempeño del modelo con la métrica del acurracy.\n",
    "\n",
    "Recuerden que el preprocesamiento que se haga sobre los datos de entrenamiento  (*.fit_transform()*) deben ser aplicado al set de test (*.transform()*)."
   ]
  },
  {
   "cell_type": "code",
   "execution_count": 28,
   "metadata": {},
   "outputs": [
    {
     "data": {
      "text/plain": [
       "array([[0, 0, 0, ..., 0, 0, 0],\n",
       "       [0, 0, 0, ..., 0, 0, 0],\n",
       "       [0, 0, 0, ..., 0, 0, 0],\n",
       "       ...,\n",
       "       [0, 0, 0, ..., 0, 0, 0],\n",
       "       [0, 0, 0, ..., 0, 0, 0],\n",
       "       [0, 0, 0, ..., 0, 0, 0]], dtype=int64)"
      ]
     },
     "execution_count": 28,
     "metadata": {},
     "output_type": "execute_result"
    }
   ],
   "source": [
    "# Se entrena el count vectorizer para generar una matriz que cuenta el numero de palabras en cada documento.\n",
    "# Se aplicó stop_words ya que no aportan información, y se escogeran palabras que aparezcan en por lo menos en\n",
    "# el 1% de los documentos\n",
    "\n",
    "vect_stop = CountVectorizer(stop_words='english' , min_df=0.01)\n",
    "X_stop = vect_stop.fit_transform(X_train)\n",
    "\n",
    "X_stop.toarray()"
   ]
  },
  {
   "cell_type": "code",
   "execution_count": 29,
   "metadata": {},
   "outputs": [
    {
     "data": {
      "text/plain": [
       "{'jetblue': 64,\n",
       " 'americanair': 9,\n",
       " 'delay': 30,\n",
       " 'southwestair': 103,\n",
       " 'flight': 43,\n",
       " 'http': 62,\n",
       " 'usairways': 122,\n",
       " 'does': 36,\n",
       " 'airline': 6,\n",
       " 'know': 67,\n",
       " 'united': 121,\n",
       " 'want': 127,\n",
       " 'plane': 90,\n",
       " 'cancelled': 20,\n",
       " 'flightled': 45,\n",
       " 'going': 51,\n",
       " 'trying': 120,\n",
       " 'make': 78,\n",
       " 'late': 68,\n",
       " 'did': 33,\n",
       " 'email': 39,\n",
       " 'tell': 107,\n",
       " 'bags': 14,\n",
       " 'boarding': 17,\n",
       " 'thank': 108,\n",
       " 'right': 95,\n",
       " 'amp': 10,\n",
       " 'won': 130,\n",
       " 'think': 110,\n",
       " 'just': 66,\n",
       " 'lost': 75,\n",
       " 'customer': 26,\n",
       " 'service': 101,\n",
       " 'waiting': 126,\n",
       " '30': 1,\n",
       " 'min': 79,\n",
       " 'hold': 57,\n",
       " 'left': 69,\n",
       " 'bag': 12,\n",
       " 'online': 86,\n",
       " 'response': 94,\n",
       " 'booked': 19,\n",
       " 'change': 22,\n",
       " 'problems': 91,\n",
       " 'ticket': 111,\n",
       " 'doesn': 37,\n",
       " 'care': 21,\n",
       " 'getting': 50,\n",
       " 'baggage': 13,\n",
       " 'airlines': 7,\n",
       " 'luggage': 77,\n",
       " 'aa': 2,\n",
       " 'book': 18,\n",
       " 'home': 58,\n",
       " 'sent': 100,\n",
       " 'let': 70,\n",
       " 'bad': 11,\n",
       " 'weather': 129,\n",
       " 'number': 85,\n",
       " 've': 123,\n",
       " 'reservation': 93,\n",
       " 'day': 28,\n",
       " 'fleet': 42,\n",
       " 'fleek': 41,\n",
       " 'way': 128,\n",
       " 'flights': 46,\n",
       " 'time': 112,\n",
       " 'need': 83,\n",
       " 'rude': 96,\n",
       " 'told': 115,\n",
       " 'connection': 24,\n",
       " 'check': 23,\n",
       " 'hours': 60,\n",
       " 'don': 38,\n",
       " 'phone': 89,\n",
       " 'virginamerica': 124,\n",
       " 'flying': 48,\n",
       " 'tonight': 117,\n",
       " 'hour': 59,\n",
       " 'long': 74,\n",
       " 'best': 15,\n",
       " 'crew': 25,\n",
       " 'help': 56,\n",
       " 'yes': 133,\n",
       " 'got': 53,\n",
       " 'gate': 49,\n",
       " 'seats': 99,\n",
       " 'jfk': 65,\n",
       " 'said': 97,\n",
       " 'll': 73,\n",
       " 'tomorrow': 116,\n",
       " 'like': 71,\n",
       " 'good': 52,\n",
       " 'issue': 63,\n",
       " 'didn': 34,\n",
       " 'agent': 3,\n",
       " 'work': 131,\n",
       " 'agents': 4,\n",
       " 'dfw': 32,\n",
       " 'trip': 119,\n",
       " 'thanks': 109,\n",
       " 'today': 114,\n",
       " 'stuck': 105,\n",
       " 'passengers': 87,\n",
       " 'delayed': 31,\n",
       " 'seat': 98,\n",
       " 'dm': 35,\n",
       " 'fly': 47,\n",
       " 'air': 5,\n",
       " 'hrs': 61,\n",
       " 'airport': 8,\n",
       " 'worst': 132,\n",
       " 'experience': 40,\n",
       " 'great': 54,\n",
       " 'morning': 82,\n",
       " 'staff': 104,\n",
       " 'really': 92,\n",
       " 'sure': 106,\n",
       " 'new': 84,\n",
       " '10': 0,\n",
       " 'flighted': 44,\n",
       " 'love': 76,\n",
       " 'miss': 81,\n",
       " 'guys': 55,\n",
       " 'better': 16,\n",
       " 'customers': 27,\n",
       " 'sitting': 102,\n",
       " 'people': 88,\n",
       " 'minutes': 80,\n",
       " 'travel': 118,\n",
       " 'wait': 125,\n",
       " 'days': 29,\n",
       " 'line': 72,\n",
       " 'times': 113}"
      ]
     },
     "execution_count": 29,
     "metadata": {},
     "output_type": "execute_result"
    }
   ],
   "source": [
    "#A continuación se muestra el vocabulario generado.\n",
    "\n",
    "vect_stop.vocabulary_"
   ]
  },
  {
   "cell_type": "code",
   "execution_count": 30,
   "metadata": {},
   "outputs": [],
   "source": [
    "# Se calibra un modelo de Random Forest (se calibra sobre pocos parámetros por limitaciones de tiempo)\n",
    "\n",
    "max_depths = [10, 30 , 50 , 100]\n",
    "n_estimators = [10, 30, 50]\n",
    "parameters=parameters = {'max_depth':max_depths , 'n_estimators': n_estimators}\n",
    "\n",
    "clf2 = RandomForestClassifier(max_features='log2')\n",
    "clf2_calib = GridSearchCV(clf2, parameters, n_jobs=-1)"
   ]
  },
  {
   "cell_type": "code",
   "execution_count": 31,
   "metadata": {},
   "outputs": [
    {
     "data": {
      "text/plain": [
       "GridSearchCV(estimator=RandomForestClassifier(max_features='log2'), n_jobs=-1,\n",
       "             param_grid={'max_depth': [10, 30, 50, 100],\n",
       "                         'n_estimators': [10, 30, 50]})"
      ]
     },
     "execution_count": 31,
     "metadata": {},
     "output_type": "execute_result"
    }
   ],
   "source": [
    "#Calibración del modelo\n",
    "clf2_calib.fit(X_stop,y_train)"
   ]
  },
  {
   "cell_type": "code",
   "execution_count": 32,
   "metadata": {},
   "outputs": [
    {
     "data": {
      "text/plain": [
       "RandomForestClassifier(max_depth=50, max_features='log2', n_estimators=50)"
      ]
     },
     "execution_count": 32,
     "metadata": {},
     "output_type": "execute_result"
    }
   ],
   "source": [
    "#Mejores parámetros obtenidos\n",
    "clf2_calib.best_estimator_"
   ]
  },
  {
   "cell_type": "code",
   "execution_count": 33,
   "metadata": {},
   "outputs": [
    {
     "data": {
      "text/plain": [
       "array([[0, 0, 0, ..., 0, 0, 0],\n",
       "       [0, 0, 0, ..., 0, 0, 0],\n",
       "       [0, 0, 0, ..., 0, 0, 0],\n",
       "       ...,\n",
       "       [0, 0, 0, ..., 0, 0, 0],\n",
       "       [0, 0, 0, ..., 0, 0, 0],\n",
       "       [0, 0, 0, ..., 0, 0, 0]], dtype=int64)"
      ]
     },
     "execution_count": 33,
     "metadata": {},
     "output_type": "execute_result"
    }
   ],
   "source": [
    "#Se realiza la transformación del CountVectorizer sobre X_Test\n",
    "X_test_stop = vect_stop.transform(X_test)\n",
    "X_test_stop.toarray()"
   ]
  },
  {
   "cell_type": "code",
   "execution_count": 34,
   "metadata": {},
   "outputs": [],
   "source": [
    "#Se estima la predicción\n",
    "predict_stop = clf2_calib.predict(X_test_stop)"
   ]
  },
  {
   "cell_type": "code",
   "execution_count": 35,
   "metadata": {},
   "outputs": [
    {
     "data": {
      "image/png": "[encoded data removed]",
      "text/plain": [
       "<Figure size 432x288 with 2 Axes>"
      ]
     },
     "metadata": {
      "needs_background": "light"
     },
     "output_type": "display_data"
    }
   ],
   "source": [
    "cm = ConfusionMatrixDisplay(confusion_matrix(y_test, predict_stop),display_labels = clf2_calib.classes_)\n",
    "cm.plot()\n",
    "plt.show()"
   ]
  },
  {
   "cell_type": "code",
   "execution_count": 36,
   "metadata": {},
   "outputs": [
    {
     "name": "stdout",
     "output_type": "stream",
     "text": [
      "0.7324089403973509\n"
     ]
    }
   ],
   "source": [
    "# métrica para evaluar modelos de clasificación. \n",
    "# Es la fracción de predicciones que el modelo realiza correctamente.\n",
    "accuracy_stop=accuracy_score(y_test, predict_stop)\n",
    "print(accuracy_stop)"
   ]
  },
  {
   "cell_type": "markdown",
   "metadata": {},
   "source": [
    "### Punto 3 - Lematización con verbos\n",
    "\n",
    "En la celda 3 creen un modelo de random forest con la libreria sklearn que prediga el sentimiento de los tweets usando los set de entrenamiento y test definidos anteriormente. Usen la función CountVectorizer, **lematizen el texto con verbos** y presenten el desempeño del modelo con la métrica del acurracy.\n",
    "\n",
    "Recuerden que el preprocesamiento que se haga sobre los datos de entrenamiento  (*.fit_transform()*) deben ser aplicado al set de test (*.transform()*)."
   ]
  },
  {
   "cell_type": "code",
   "execution_count": 37,
   "metadata": {},
   "outputs": [
    {
     "name": "stderr",
     "output_type": "stream",
     "text": [
      "[nltk_data] Downloading package wordnet to\n",
      "[nltk_data]     C:\\Users\\jsmar\\AppData\\Roaming\\nltk_data...\n",
      "[nltk_data]   Package wordnet is already up-to-date!\n"
     ]
    }
   ],
   "source": [
    "# Celda 3\n",
    "# Importación de librerias\n",
    "import nltk\n",
    "nltk.download('wordnet')\n",
    "wordnet_lemmatizer = WordNetLemmatizer()\n",
    "\n"
   ]
  },
  {
   "cell_type": "code",
   "execution_count": 38,
   "metadata": {},
   "outputs": [],
   "source": [
    "#Definicion de analizador que lematizara el texto como verbos\n",
    "\n",
    "def split_into_lemmas(text):\n",
    "    text = text.lower()\n",
    "    words = text.split()\n",
    "    return [wordnet_lemmatizer.lemmatize(word, pos='v') for word in words]\n"
   ]
  },
  {
   "cell_type": "code",
   "execution_count": 39,
   "metadata": {},
   "outputs": [],
   "source": [
    "# Creación de matrices de documentos usando CountVectorizer, usando el analizador split_into_lemmas creado anteriormente\n",
    "vect_lemas = CountVectorizer(analyzer=split_into_lemmas, min_df=0.01)"
   ]
  },
  {
   "cell_type": "code",
   "execution_count": 40,
   "metadata": {},
   "outputs": [],
   "source": [
    "X_lem = vect_lemas.fit_transform(X_train)"
   ]
  },
  {
   "cell_type": "code",
   "execution_count": 41,
   "metadata": {},
   "outputs": [
    {
     "data": {
      "text/plain": [
       "{'@jetblue': 6,\n",
       " 'of': 129,\n",
       " 'i': 87,\n",
       " '@americanair': 5,\n",
       " 'on': 131,\n",
       " 'delay': 47,\n",
       " 'from': 68,\n",
       " 'a': 11,\n",
       " 'that': 169,\n",
       " 'last': 101,\n",
       " 'no': 125,\n",
       " 'and': 20,\n",
       " 'not': 126,\n",
       " 'what': 201,\n",
       " '@southwestair': 7,\n",
       " 'flight': 62,\n",
       " 'to': 182,\n",
       " '@usairways': 9,\n",
       " 'do': 50,\n",
       " 'your': 217,\n",
       " 'airline': 16,\n",
       " 'know': 100,\n",
       " 'how': 85,\n",
       " 'their': 172,\n",
       " '@united': 8,\n",
       " 'want': 197,\n",
       " 'plane': 143,\n",
       " 'my': 120,\n",
       " 'have': 77,\n",
       " 'be': 29,\n",
       " 'cancel': 39,\n",
       " 'one': 132,\n",
       " 'me.': 114,\n",
       " \"what's\": 202,\n",
       " 'go': 72,\n",
       " 'it': 95,\n",
       " \"i'm\": 89,\n",
       " 'try': 188,\n",
       " 'but': 34,\n",
       " 'too': 185,\n",
       " 'late': 102,\n",
       " 'flight.': 63,\n",
       " 'see': 150,\n",
       " 'an': 19,\n",
       " 'email': 54,\n",
       " 'could': 43,\n",
       " 'look': 108,\n",
       " 'you': 213,\n",
       " 'the': 171,\n",
       " 'tell': 165,\n",
       " 'me': 113,\n",
       " 'where': 204,\n",
       " 'bag': 27,\n",
       " 'board': 32,\n",
       " 'with': 208,\n",
       " 'she': 153,\n",
       " 'should': 154,\n",
       " 'thank': 167,\n",
       " 'or': 134,\n",
       " 'u': 190,\n",
       " 'now': 127,\n",
       " '&amp;': 0,\n",
       " \"won't\": 209,\n",
       " 'think': 177,\n",
       " \"that's\": 170,\n",
       " 'another': 21,\n",
       " 'just': 98,\n",
       " 'hang': 76,\n",
       " 'up': 192,\n",
       " 'by': 35,\n",
       " 'customer': 45,\n",
       " 'service': 152,\n",
       " 'after': 13,\n",
       " 'wait': 196,\n",
       " 'min': 115,\n",
       " 'leave': 103,\n",
       " 'in': 92,\n",
       " 'as': 23,\n",
       " 'book': 33,\n",
       " \"can't\": 38,\n",
       " 'use': 194,\n",
       " 'change': 40,\n",
       " 'why': 206,\n",
       " 'ticket': 180,\n",
       " 'line': 106,\n",
       " 'so': 157,\n",
       " 'would': 212,\n",
       " 'guy': 75,\n",
       " 'who': 205,\n",
       " \"doesn't\": 51,\n",
       " 'about': 12,\n",
       " 'they': 176,\n",
       " 'more': 118,\n",
       " 'get': 70,\n",
       " 'baggage': 28,\n",
       " 'than': 166,\n",
       " 'unite': 191,\n",
       " 'when': 203,\n",
       " 'someone': 159,\n",
       " 'luggage': 111,\n",
       " 'make': 112,\n",
       " 'can': 37,\n",
       " 'put': 145,\n",
       " 'some': 158,\n",
       " 'send': 151,\n",
       " 'let': 104,\n",
       " 'weather': 200,\n",
       " 'give': 71,\n",
       " 'us': 193,\n",
       " 'number': 128,\n",
       " 'call': 36,\n",
       " 'since': 155,\n",
       " 'work': 210,\n",
       " \"i've\": 90,\n",
       " 'through': 179,\n",
       " 'will': 207,\n",
       " 'day': 46,\n",
       " '3': 3,\n",
       " 'our': 136,\n",
       " \"fleet's\": 61,\n",
       " 'fleek.': 60,\n",
       " 'way': 198,\n",
       " '-': 1,\n",
       " 'we': 199,\n",
       " 'time': 181,\n",
       " 'need': 121,\n",
       " 'lose': 109,\n",
       " 'for': 67,\n",
       " 'even': 55,\n",
       " 'ask': 24,\n",
       " 'miss': 117,\n",
       " 'then': 174,\n",
       " 'next': 124,\n",
       " 'pay': 140,\n",
       " 'this': 178,\n",
       " 'check': 41,\n",
       " '2': 2,\n",
       " 'hours': 84,\n",
       " \"don't\": 52,\n",
       " 'back': 26,\n",
       " '@virginamerica': 10,\n",
       " \"it's\": 96,\n",
       " 'it.': 97,\n",
       " 'fly': 65,\n",
       " 'at': 25,\n",
       " 'only': 133,\n",
       " 'hour': 83,\n",
       " 'long': 107,\n",
       " 'ever': 56,\n",
       " 'crew': 44,\n",
       " 'phone': 142,\n",
       " 'help': 78,\n",
       " 'flightled': 64,\n",
       " 'gate': 69,\n",
       " 'if': 91,\n",
       " 'there': 175,\n",
       " 'any': 22,\n",
       " 'other': 135,\n",
       " 'very': 195,\n",
       " 'say': 148,\n",
       " 'due': 53,\n",
       " \"i'll\": 88,\n",
       " 'tomorrow': 184,\n",
       " 'like': 105,\n",
       " 'good': 73,\n",
       " 'please': 144,\n",
       " 'issue': 94,\n",
       " 'still': 162,\n",
       " 'take': 164,\n",
       " \"didn't\": 48,\n",
       " 'agent': 15,\n",
       " 'out': 137,\n",
       " 'here': 80,\n",
       " 'trip': 187,\n",
       " \"you're\": 215,\n",
       " 'same': 147,\n",
       " 'before': 31,\n",
       " 'stick': 161,\n",
       " 'her': 79,\n",
       " 'passengers': 139,\n",
       " 'seat': 149,\n",
       " 'two': 189,\n",
       " 'find': 58,\n",
       " 'dm': 49,\n",
       " 'again': 14,\n",
       " 'over': 138,\n",
       " 'all': 18,\n",
       " 'today': 183,\n",
       " 'never': 122,\n",
       " 'hold': 81,\n",
       " 'follow': 66,\n",
       " 'because': 30,\n",
       " 'come': 42,\n",
       " 'first': 59,\n",
       " 'hrs': 86,\n",
       " 'travel': 186,\n",
       " 'worst': 211,\n",
       " 'experience': 57,\n",
       " 'great': 74,\n",
       " 'staff': 160,\n",
       " 'much': 119,\n",
       " 'really': 146,\n",
       " 'sure': 163,\n",
       " 'keep': 99,\n",
       " 'new': 123,\n",
       " 'them': 173,\n",
       " 'off': 130,\n",
       " '4': 4,\n",
       " 'love': 110,\n",
       " 'into': 93,\n",
       " 'you.': 216,\n",
       " 'thanks!': 168,\n",
       " 'you!': 214,\n",
       " 'sit': 156,\n",
       " 'people': 141,\n",
       " 'airport': 17,\n",
       " 'minutes': 116,\n",
       " 'home': 82}"
      ]
     },
     "execution_count": 41,
     "metadata": {},
     "output_type": "execute_result"
    }
   ],
   "source": [
    "\n",
    "vect_lemas.vocabulary_"
   ]
  },
  {
   "cell_type": "code",
   "execution_count": 42,
   "metadata": {},
   "outputs": [],
   "source": [
    "max_depths = [10, 30 , 50 , 100]\n",
    "n_estimators = [10, 30, 50]\n",
    "parameters=parameters = {'max_depth':max_depths , 'n_estimators': n_estimators}\n",
    "\n",
    "clf3 = RandomForestClassifier(max_features='log2')\n",
    "clf3_calib = GridSearchCV(clf3, parameters, n_jobs=-1)"
   ]
  },
  {
   "cell_type": "code",
   "execution_count": 43,
   "metadata": {},
   "outputs": [
    {
     "data": {
      "text/plain": [
       "GridSearchCV(estimator=RandomForestClassifier(max_features='log2'), n_jobs=-1,\n",
       "             param_grid={'max_depth': [10, 30, 50, 100],\n",
       "                         'n_estimators': [10, 30, 50]})"
      ]
     },
     "execution_count": 43,
     "metadata": {},
     "output_type": "execute_result"
    }
   ],
   "source": [
    "#Calibración del modelo\n",
    "clf3_calib.fit(X_lem,y_train)"
   ]
  },
  {
   "cell_type": "code",
   "execution_count": 44,
   "metadata": {},
   "outputs": [
    {
     "data": {
      "text/plain": [
       "array([[0, 0, 0, ..., 1, 0, 0],\n",
       "       [0, 0, 0, ..., 0, 0, 0],\n",
       "       [0, 0, 0, ..., 0, 0, 1],\n",
       "       ...,\n",
       "       [0, 0, 1, ..., 0, 0, 0],\n",
       "       [0, 0, 0, ..., 0, 0, 0],\n",
       "       [0, 0, 0, ..., 0, 0, 0]], dtype=int64)"
      ]
     },
     "execution_count": 44,
     "metadata": {},
     "output_type": "execute_result"
    }
   ],
   "source": [
    "X_test_lem = vect_lemas.transform(X_test)\n",
    "X_test_lem.toarray()"
   ]
  },
  {
   "cell_type": "code",
   "execution_count": 45,
   "metadata": {},
   "outputs": [],
   "source": [
    "predict_lem = clf3_calib.predict(X_test_lem)"
   ]
  },
  {
   "cell_type": "code",
   "execution_count": 46,
   "metadata": {},
   "outputs": [
    {
     "data": {
      "image/png": "[encoded data removed]",
      "text/plain": [
       "<Figure size 432x288 with 2 Axes>"
      ]
     },
     "metadata": {
      "needs_background": "light"
     },
     "output_type": "display_data"
    }
   ],
   "source": [
    "cm = ConfusionMatrixDisplay(confusion_matrix(y_test, predict_lem),display_labels = clf3_calib.classes_)\n",
    "cm.plot()\n",
    "plt.show()"
   ]
  },
  {
   "cell_type": "code",
   "execution_count": 47,
   "metadata": {},
   "outputs": [
    {
     "name": "stdout",
     "output_type": "stream",
     "text": [
      "0.7545529801324503\n"
     ]
    }
   ],
   "source": [
    "accuracy_lem=accuracy_score(y_test, predict_lem)\n",
    "print(accuracy_lem)"
   ]
  },
  {
   "cell_type": "markdown",
   "metadata": {},
   "source": [
    "### Punto 4 - Multiples técnicas\n",
    "\n",
    "En la celda 4 creen un modelo de random forest con la libreria sklearn que prediga el sentimiento de los tweets usando los set de entrenamiento y test definidos anteriormente. Usen la función **CountVectorizer, eliminen stopwords, lematizen el texto con verbos** y presenten el desempeño del modelo con la métrica del acurracy.\n",
    "\n",
    "Recuerden que el preprocesamiento que se haga sobre los datos de entrenamiento  (*.fit_transform()*) deben ser aplicado al set de test (*.transform()*)."
   ]
  },
  {
   "cell_type": "code",
   "execution_count": 48,
   "metadata": {},
   "outputs": [
    {
     "name": "stderr",
     "output_type": "stream",
     "text": [
      "[nltk_data] Downloading package stopwords to\n",
      "[nltk_data]     C:\\Users\\jsmar\\AppData\\Roaming\\nltk_data...\n",
      "[nltk_data]   Package stopwords is already up-to-date!\n"
     ]
    },
    {
     "data": {
      "text/plain": [
       "True"
      ]
     },
     "execution_count": 48,
     "metadata": {},
     "output_type": "execute_result"
    }
   ],
   "source": [
    "nltk.download('stopwords')"
   ]
  },
  {
   "cell_type": "code",
   "execution_count": 71,
   "metadata": {},
   "outputs": [],
   "source": [
    "#Debido a que el analyzer del CountVectorizer es una funcion, el parametro de stopwords no funcionaria. Por lo tanto es necesario incluir la eliminacion de stopwords en la funcion.\n",
    "\n",
    "def split_into_lemmas_stop(text):\n",
    "    from nltk.corpus import stopwords\n",
    "    \n",
    "    text = text.lower()\n",
    "    words = text.split()\n",
    "    return [wordnet_lemmatizer.lemmatize(word , pos = 'v') for word in words if word not in stopwords.words('english')]"
   ]
  },
  {
   "cell_type": "code",
   "execution_count": 72,
   "metadata": {},
   "outputs": [],
   "source": [
    "\n",
    "vect_stp_lem = CountVectorizer(analyzer=split_into_lemmas_stop, min_df=0.01)\n",
    "X_stp_lem = vect_stp_lem.fit_transform(X_train)\n"
   ]
  },
  {
   "cell_type": "code",
   "execution_count": 73,
   "metadata": {},
   "outputs": [
    {
     "data": {
      "text/plain": [
       "{'@jetblue': 6,\n",
       " '@americanair': 5,\n",
       " 'delay': 31,\n",
       " 'last': 68,\n",
       " '@southwestair': 7,\n",
       " 'flight': 42,\n",
       " '@usairways': 9,\n",
       " 'airline': 12,\n",
       " 'know': 67,\n",
       " '@united': 8,\n",
       " 'want': 130,\n",
       " 'plane': 95,\n",
       " 'cancel': 23,\n",
       " 'one': 90,\n",
       " 'me.': 80,\n",
       " \"what's\": 133,\n",
       " 'go': 50,\n",
       " \"i'm\": 62,\n",
       " 'try': 123,\n",
       " 'late': 69,\n",
       " 'flight.': 43,\n",
       " 'see': 101,\n",
       " 'email': 34,\n",
       " 'could': 27,\n",
       " 'look': 75,\n",
       " 'tell': 112,\n",
       " 'bag': 17,\n",
       " 'board': 19,\n",
       " 'thank': 113,\n",
       " 'u': 125,\n",
       " '&amp;': 0,\n",
       " 'think': 116,\n",
       " \"that's\": 115,\n",
       " 'another': 14,\n",
       " 'hang': 54,\n",
       " 'customer': 29,\n",
       " 'service': 103,\n",
       " 'wait': 129,\n",
       " 'min': 81,\n",
       " 'leave': 70,\n",
       " 'book': 20,\n",
       " \"can't\": 22,\n",
       " 'use': 128,\n",
       " 'change': 24,\n",
       " 'ticket': 117,\n",
       " 'line': 73,\n",
       " 'would': 136,\n",
       " 'guy': 53,\n",
       " 'get': 48,\n",
       " 'baggage': 18,\n",
       " 'unite': 126,\n",
       " 'someone': 106,\n",
       " 'luggage': 78,\n",
       " 'make': 79,\n",
       " 'put': 97,\n",
       " 'send': 102,\n",
       " 'let': 71,\n",
       " 'weather': 132,\n",
       " 'give': 49,\n",
       " 'us': 127,\n",
       " 'number': 89,\n",
       " 'call': 21,\n",
       " 'since': 104,\n",
       " 'work': 134,\n",
       " \"i've\": 63,\n",
       " 'day': 30,\n",
       " '3': 3,\n",
       " \"fleet's\": 41,\n",
       " 'fleek.': 40,\n",
       " 'way': 131,\n",
       " '-': 1,\n",
       " 'time': 118,\n",
       " 'need': 85,\n",
       " 'lose': 76,\n",
       " 'even': 35,\n",
       " 'ask': 15,\n",
       " 'miss': 83,\n",
       " 'next': 88,\n",
       " 'pay': 92,\n",
       " 'check': 25,\n",
       " '2': 2,\n",
       " 'hours': 59,\n",
       " 'back': 16,\n",
       " '@virginamerica': 10,\n",
       " 'it.': 65,\n",
       " 'fly': 45,\n",
       " 'hour': 58,\n",
       " 'long': 74,\n",
       " 'ever': 36,\n",
       " 'crew': 28,\n",
       " 'phone': 94,\n",
       " 'help': 55,\n",
       " 'flightled': 44,\n",
       " 'gate': 47,\n",
       " 'say': 99,\n",
       " 'due': 33,\n",
       " \"i'll\": 61,\n",
       " 'tomorrow': 120,\n",
       " 'like': 72,\n",
       " 'good': 51,\n",
       " 'please': 96,\n",
       " 'issue': 64,\n",
       " 'still': 109,\n",
       " 'take': 111,\n",
       " 'agent': 11,\n",
       " 'trip': 122,\n",
       " 'stick': 108,\n",
       " 'passengers': 91,\n",
       " 'seat': 100,\n",
       " 'two': 124,\n",
       " 'find': 38,\n",
       " 'dm': 32,\n",
       " 'today': 119,\n",
       " 'never': 86,\n",
       " 'hold': 56,\n",
       " 'follow': 46,\n",
       " 'come': 26,\n",
       " 'first': 39,\n",
       " 'hrs': 60,\n",
       " 'travel': 121,\n",
       " 'worst': 135,\n",
       " 'experience': 37,\n",
       " 'great': 52,\n",
       " 'staff': 107,\n",
       " 'much': 84,\n",
       " 'really': 98,\n",
       " 'sure': 110,\n",
       " 'keep': 66,\n",
       " 'new': 87,\n",
       " '4': 4,\n",
       " 'love': 77,\n",
       " 'you.': 138,\n",
       " 'thanks!': 114,\n",
       " 'you!': 137,\n",
       " 'sit': 105,\n",
       " 'people': 93,\n",
       " 'airport': 13,\n",
       " 'minutes': 82,\n",
       " 'home': 57}"
      ]
     },
     "execution_count": 73,
     "metadata": {},
     "output_type": "execute_result"
    }
   ],
   "source": [
    "vect_stp_lem.vocabulary_"
   ]
  },
  {
   "cell_type": "code",
   "execution_count": 74,
   "metadata": {},
   "outputs": [],
   "source": [
    "max_depths = [10, 30 , 50 , 100]\n",
    "n_estimators = [10, 30, 50]\n",
    "parameters=parameters = {'max_depth':max_depths , 'n_estimators': n_estimators}\n",
    "\n",
    "clf4 = RandomForestClassifier(max_features='log2')\n",
    "clf4_calib = GridSearchCV(clf4, parameters, n_jobs=-1)"
   ]
  },
  {
   "cell_type": "code",
   "execution_count": 75,
   "metadata": {},
   "outputs": [
    {
     "data": {
      "text/plain": [
       "GridSearchCV(estimator=RandomForestClassifier(max_features='log2'), n_jobs=-1,\n",
       "             param_grid={'max_depth': [10, 30, 50, 100],\n",
       "                         'n_estimators': [10, 30, 50]})"
      ]
     },
     "execution_count": 75,
     "metadata": {},
     "output_type": "execute_result"
    }
   ],
   "source": [
    "clf4_calib.fit(X_stp_lem , y_train)"
   ]
  },
  {
   "cell_type": "code",
   "execution_count": 76,
   "metadata": {},
   "outputs": [
    {
     "data": {
      "text/plain": [
       "RandomForestClassifier(max_depth=50, max_features='log2', n_estimators=50)"
      ]
     },
     "execution_count": 76,
     "metadata": {},
     "output_type": "execute_result"
    }
   ],
   "source": [
    "clf4_calib.best_estimator_"
   ]
  },
  {
   "cell_type": "code",
   "execution_count": 77,
   "metadata": {},
   "outputs": [],
   "source": [
    "X_test_stp_lem = vect_stp_lem.transform(X_test)\n"
   ]
  },
  {
   "cell_type": "code",
   "execution_count": 78,
   "metadata": {},
   "outputs": [],
   "source": [
    "predict_stp_lem = clf4_calib.predict(X_test_stp_lem)"
   ]
  },
  {
   "cell_type": "code",
   "execution_count": 79,
   "metadata": {},
   "outputs": [
    {
     "data": {
      "image/png": "[encoded data removed]",
      "text/plain": [
       "<Figure size 432x288 with 2 Axes>"
      ]
     },
     "metadata": {
      "needs_background": "light"
     },
     "output_type": "display_data"
    }
   ],
   "source": [
    "cm = ConfusionMatrixDisplay(confusion_matrix(y_test, predict_stp_lem),display_labels = clf4_calib.classes_)\n",
    "cm.plot()\n",
    "plt.show()"
   ]
  },
  {
   "cell_type": "code",
   "execution_count": 80,
   "metadata": {},
   "outputs": [
    {
     "name": "stdout",
     "output_type": "stream",
     "text": [
      "0.7230960264900662\n"
     ]
    }
   ],
   "source": [
    "accuracy_stp_lemm = accuracy_score(y_test, predict_stp_lem)\n",
    "print(accuracy_stp_lemm)"
   ]
  },
  {
   "cell_type": "markdown",
   "metadata": {},
   "source": [
    "### Punto 5 - Comparación y análisis de resultados\n",
    "\n",
    "En la celda 5 comparen los resultados obtenidos de los diferentes modelos (random forest) y comenten las ventajas del mejor modelo y las desventajas del modelo con el menor desempeño."
   ]
  },
  {
   "cell_type": "code",
   "execution_count": 81,
   "metadata": {},
   "outputs": [
    {
     "data": {
      "image/png": "[encoded data removed]",
      "text/plain": [
       "<Figure size 432x288 with 1 Axes>"
      ]
     },
     "metadata": {
      "needs_background": "light"
     },
     "output_type": "display_data"
    }
   ],
   "source": [
    "# Celda 5\n",
    "modelos = ['CV' , 'Stopword', 'Lema', 'Stop+Lema']\n",
    "valores = [accuracy_vect , accuracy_stop, accuracy_lem, accuracy_stp_lemm]\n",
    "xpos = np.arange(len(valores))\n",
    "\n",
    "plt.bar(modelos, valores)\n",
    "\n",
    "for i, v in enumerate(valores):\n",
    "    plt.text( x= xpos[i]-0.3, y=v, s = str(v)[0:6], verticalalignment='bottom')"
   ]
  },
  {
   "cell_type": "markdown",
   "metadata": {},
   "source": [
    "De acuerdo a los resultados obtenidos el modelo con el mejor Accuracy general es el de vectorizacion simple (1-gramas), seguido por el de lematizacion de verbos.\n",
    "\n",
    "Sin embargo vale la pena mirar el comportamiento por clases:\n",
    "- El modelo que tiene mejor desempeño para predecir clase negativa es el de vectorizacion simple o el de lematizacion.\n",
    "- El modelo que tiene mejor desempeño para predecir clase neutra es el de vectorizacion simple o el de lematización.\n",
    "- El modelo que tiene mejor desempeño para predecir clase positiva es el de stopwords"
   ]
  },
  {
   "cell_type": "code",
   "execution_count": 82,
   "metadata": {},
   "outputs": [
    {
     "name": "stdout",
     "output_type": "stream",
     "text": [
      "              precision    recall  f1-score   support\n",
      "\n",
      "          -1       0.78      0.94      0.85      3085\n",
      "           0       0.61      0.41      0.49       984\n",
      "           1       0.76      0.46      0.57       763\n",
      "\n",
      "    accuracy                           0.76      4832\n",
      "   macro avg       0.72      0.60      0.64      4832\n",
      "weighted avg       0.74      0.76      0.73      4832\n",
      "\n",
      "              precision    recall  f1-score   support\n",
      "\n",
      "          -1       0.78      0.90      0.84      3085\n",
      "           0       0.54      0.37      0.44       984\n",
      "           1       0.66      0.53      0.58       763\n",
      "\n",
      "    accuracy                           0.73      4832\n",
      "   macro avg       0.66      0.60      0.62      4832\n",
      "weighted avg       0.71      0.73      0.72      4832\n",
      "\n",
      "              precision    recall  f1-score   support\n",
      "\n",
      "          -1       0.77      0.94      0.85      3085\n",
      "           0       0.61      0.40      0.49       984\n",
      "           1       0.80      0.45      0.58       763\n",
      "\n",
      "    accuracy                           0.75      4832\n",
      "   macro avg       0.73      0.60      0.64      4832\n",
      "weighted avg       0.75      0.75      0.73      4832\n",
      "\n",
      "              precision    recall  f1-score   support\n",
      "\n",
      "          -1       0.77      0.90      0.83      3085\n",
      "           0       0.52      0.36      0.42       984\n",
      "           1       0.69      0.48      0.56       763\n",
      "\n",
      "    accuracy                           0.72      4832\n",
      "   macro avg       0.66      0.58      0.60      4832\n",
      "weighted avg       0.70      0.72      0.70      4832\n",
      "\n"
     ]
    }
   ],
   "source": [
    "from sklearn.metrics import classification_report\n",
    "\n",
    "print(classification_report(y_test, predict1))\n",
    "print(classification_report(y_test, predict_stop))\n",
    "print(classification_report(y_test, predict_lem))\n",
    "print(classification_report(y_test, predict_stp_lem))"
   ]
  }
 ],
 "metadata": {
  "interpreter": {
   "hash": "8e259422585f771e517ec42115f0e449d69faa4768bafdf916daf9d052474adf"
  },
  "kernelspec": {
   "display_name": "Python 3.9.12 ('TF')",
   "language": "python",
   "name": "python3"
  },
  "language_info": {
   "codemirror_mode": {
    "name": "ipython",
    "version": 3
   },
   "file_extension": ".py",
   "mimetype": "text/x-python",
   "name": "python",
   "nbconvert_exporter": "python",
   "pygments_lexer": "ipython3",
   "version": "3.9.12"
  }
 },
 "nbformat": 4,
 "nbformat_minor": 2
}
