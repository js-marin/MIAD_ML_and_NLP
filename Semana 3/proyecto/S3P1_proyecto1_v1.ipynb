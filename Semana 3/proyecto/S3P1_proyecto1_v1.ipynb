{
 "cells": [
  {
   "cell_type": "markdown",
   "metadata": {},
   "source": [
    "![image info](https://raw.githubusercontent.com/albahnsen/MIAD_ML_and_NLP/main/images/banner_1.png)"
   ]
  },
  {
   "cell_type": "markdown",
   "metadata": {},
   "source": [
    "# Proyecto 1 - Predicción de precios de vehículos usados\n",
    "\n",
    "En este proyecto podrán poner en práctica sus conocimientos sobre modelos predictivos basados en árboles y ensambles, y sobre la disponibilización de modelos. Para su desasrrollo tengan en cuenta las instrucciones dadas en la \"Guía del proyecto 1: Predicción de precios de vehículos usados\".\n",
    "\n",
    "**Entrega**: La entrega del proyecto deberán realizarla durante la semana 4. Sin embargo, es importante que avancen en la semana 3 en el modelado del problema y en parte del informe, tal y como se les indicó en la guía.\n",
    "\n",
    "Para hacer la entrega, deberán adjuntar el informe autocontenido en PDF a la actividad de entrega del proyecto que encontrarán en la semana 4, y subir el archivo de predicciones a la [competencia de Kaggle](https://www.kaggle.com/t/4bd64c1deb3c4ffb8ca7ff93c1f1497d)."
   ]
  },
  {
   "cell_type": "markdown",
   "metadata": {},
   "source": [
    "## Datos para la predicción de precios de vehículos usados\n",
    "\n",
    "En este proyecto se usará el conjunto de datos de Car Listings de Kaggle, donde cada observación representa el precio de un automóvil teniendo en cuenta distintas variables como: año, marca, modelo, entre otras. El objetivo es predecir el precio del automóvil. Para más detalles puede visitar el siguiente enlace: [datos](https://www.kaggle.com/jpayne/852k-used-car-listings)."
   ]
  },
  {
   "cell_type": "markdown",
   "metadata": {},
   "source": [
    "## Ejemplo predicción conjunto de test para envío a Kaggle\n",
    "\n",
    "En esta sección encontrarán el formato en el que deben guardar los resultados de la predicción para que puedan subirlos a la competencia en Kaggle."
   ]
  },
  {
   "cell_type": "code",
   "execution_count": 1,
   "metadata": {},
   "outputs": [],
   "source": [
    "import warnings\n",
    "warnings.filterwarnings('ignore')"
   ]
  },
  {
   "cell_type": "code",
   "execution_count": 2,
   "metadata": {},
   "outputs": [],
   "source": [
    "# Importación librerías\n",
    "import pandas as pd\n",
    "import numpy as np"
   ]
  },
  {
   "cell_type": "code",
   "execution_count": 3,
   "metadata": {},
   "outputs": [],
   "source": [
    "# Carga de datos de archivo .csv\n",
    "dataTraining = pd.read_csv('https://raw.githubusercontent.com/albahnsen/MIAD_ML_and_NLP/main/datasets/dataTrain_carListings.zip')\n",
    "dataTesting = pd.read_csv('https://raw.githubusercontent.com/albahnsen/MIAD_ML_and_NLP/main/datasets/dataTest_carListings.zip', index_col=0)"
   ]
  },
  {
   "cell_type": "code",
   "execution_count": 4,
   "metadata": {},
   "outputs": [
    {
     "data": {
      "text/html": [
       "<div>\n",
       "<style scoped>\n",
       "    .dataframe tbody tr th:only-of-type {\n",
       "        vertical-align: middle;\n",
       "    }\n",
       "\n",
       "    .dataframe tbody tr th {\n",
       "        vertical-align: top;\n",
       "    }\n",
       "\n",
       "    .dataframe thead th {\n",
       "        text-align: right;\n",
       "    }\n",
       "</style>\n",
       "<table border=\"1\" class=\"dataframe\">\n",
       "  <thead>\n",
       "    <tr style=\"text-align: right;\">\n",
       "      <th></th>\n",
       "      <th>Price</th>\n",
       "      <th>Year</th>\n",
       "      <th>Mileage</th>\n",
       "      <th>State</th>\n",
       "      <th>Make</th>\n",
       "      <th>Model</th>\n",
       "    </tr>\n",
       "  </thead>\n",
       "  <tbody>\n",
       "    <tr>\n",
       "      <th>0</th>\n",
       "      <td>34995</td>\n",
       "      <td>2017</td>\n",
       "      <td>9913</td>\n",
       "      <td>FL</td>\n",
       "      <td>Jeep</td>\n",
       "      <td>Wrangler</td>\n",
       "    </tr>\n",
       "    <tr>\n",
       "      <th>1</th>\n",
       "      <td>37895</td>\n",
       "      <td>2015</td>\n",
       "      <td>20578</td>\n",
       "      <td>OH</td>\n",
       "      <td>Chevrolet</td>\n",
       "      <td>Tahoe4WD</td>\n",
       "    </tr>\n",
       "    <tr>\n",
       "      <th>2</th>\n",
       "      <td>18430</td>\n",
       "      <td>2012</td>\n",
       "      <td>83716</td>\n",
       "      <td>TX</td>\n",
       "      <td>BMW</td>\n",
       "      <td>X5AWD</td>\n",
       "    </tr>\n",
       "    <tr>\n",
       "      <th>3</th>\n",
       "      <td>24681</td>\n",
       "      <td>2014</td>\n",
       "      <td>28729</td>\n",
       "      <td>OH</td>\n",
       "      <td>Cadillac</td>\n",
       "      <td>SRXLuxury</td>\n",
       "    </tr>\n",
       "    <tr>\n",
       "      <th>4</th>\n",
       "      <td>26998</td>\n",
       "      <td>2013</td>\n",
       "      <td>64032</td>\n",
       "      <td>CO</td>\n",
       "      <td>Jeep</td>\n",
       "      <td>Wrangler</td>\n",
       "    </tr>\n",
       "  </tbody>\n",
       "</table>\n",
       "</div>"
      ],
      "text/plain": [
       "   Price  Year  Mileage State       Make      Model\n",
       "0  34995  2017     9913    FL       Jeep   Wrangler\n",
       "1  37895  2015    20578    OH  Chevrolet   Tahoe4WD\n",
       "2  18430  2012    83716    TX        BMW      X5AWD\n",
       "3  24681  2014    28729    OH   Cadillac  SRXLuxury\n",
       "4  26998  2013    64032    CO       Jeep   Wrangler"
      ]
     },
     "execution_count": 4,
     "metadata": {},
     "output_type": "execute_result"
    }
   ],
   "source": [
    "# Visualización datos de entrenamiento (Training)\n",
    "dataTraining.head()"
   ]
  },
  {
   "cell_type": "code",
   "execution_count": 5,
   "metadata": {},
   "outputs": [
    {
     "data": {
      "text/html": [
       "<div>\n",
       "<style scoped>\n",
       "    .dataframe tbody tr th:only-of-type {\n",
       "        vertical-align: middle;\n",
       "    }\n",
       "\n",
       "    .dataframe tbody tr th {\n",
       "        vertical-align: top;\n",
       "    }\n",
       "\n",
       "    .dataframe thead th {\n",
       "        text-align: right;\n",
       "    }\n",
       "</style>\n",
       "<table border=\"1\" class=\"dataframe\">\n",
       "  <thead>\n",
       "    <tr style=\"text-align: right;\">\n",
       "      <th></th>\n",
       "      <th>Year</th>\n",
       "      <th>Mileage</th>\n",
       "      <th>State</th>\n",
       "      <th>Make</th>\n",
       "      <th>Model</th>\n",
       "    </tr>\n",
       "    <tr>\n",
       "      <th>ID</th>\n",
       "      <th></th>\n",
       "      <th></th>\n",
       "      <th></th>\n",
       "      <th></th>\n",
       "      <th></th>\n",
       "    </tr>\n",
       "  </thead>\n",
       "  <tbody>\n",
       "    <tr>\n",
       "      <th>0</th>\n",
       "      <td>2014</td>\n",
       "      <td>31909</td>\n",
       "      <td>MD</td>\n",
       "      <td>Nissan</td>\n",
       "      <td>MuranoAWD</td>\n",
       "    </tr>\n",
       "    <tr>\n",
       "      <th>1</th>\n",
       "      <td>2017</td>\n",
       "      <td>5362</td>\n",
       "      <td>FL</td>\n",
       "      <td>Jeep</td>\n",
       "      <td>Wrangler</td>\n",
       "    </tr>\n",
       "    <tr>\n",
       "      <th>2</th>\n",
       "      <td>2014</td>\n",
       "      <td>50300</td>\n",
       "      <td>OH</td>\n",
       "      <td>Ford</td>\n",
       "      <td>FlexLimited</td>\n",
       "    </tr>\n",
       "    <tr>\n",
       "      <th>3</th>\n",
       "      <td>2004</td>\n",
       "      <td>132160</td>\n",
       "      <td>WA</td>\n",
       "      <td>BMW</td>\n",
       "      <td>5</td>\n",
       "    </tr>\n",
       "    <tr>\n",
       "      <th>4</th>\n",
       "      <td>2015</td>\n",
       "      <td>25226</td>\n",
       "      <td>MA</td>\n",
       "      <td>Jeep</td>\n",
       "      <td>Grand</td>\n",
       "    </tr>\n",
       "  </tbody>\n",
       "</table>\n",
       "</div>"
      ],
      "text/plain": [
       "    Year  Mileage State    Make        Model\n",
       "ID                                          \n",
       "0   2014    31909    MD  Nissan    MuranoAWD\n",
       "1   2017     5362    FL    Jeep     Wrangler\n",
       "2   2014    50300    OH    Ford  FlexLimited\n",
       "3   2004   132160    WA     BMW            5\n",
       "4   2015    25226    MA    Jeep        Grand"
      ]
     },
     "execution_count": 5,
     "metadata": {},
     "output_type": "execute_result"
    }
   ],
   "source": [
    "# Visualización datos de test o \"XTest\"\n",
    "dataTesting.head()"
   ]
  },
  {
   "cell_type": "code",
   "execution_count": 6,
   "metadata": {},
   "outputs": [],
   "source": [
    "# EJEMPLO DE OUTUT\n",
    "# Predicción del conjunto de test - acá se genera un número aleatorio como ejemplo \"yTest\"\n",
    "\n",
    "#np.random.seed(42)\n",
    "#y_pred = pd.DataFrame(np.random.rand(dataTesting.shape[0]) * 75000 + 5000, index=dataTesting.index, columns=['Price'])"
   ]
  },
  {
   "cell_type": "code",
   "execution_count": 7,
   "metadata": {},
   "outputs": [],
   "source": [
    "# EJEMPLO DE OUTUT\n",
    "# Guardar predicciones en formato exigido en la competencia de kaggle\n",
    "\n",
    "#y_pred.to_csv('test_submission.csv', index_label='ID')\n"
   ]
  },
  {
   "cell_type": "markdown",
   "metadata": {},
   "source": [
    "## Exploracion de datos"
   ]
  },
  {
   "cell_type": "code",
   "execution_count": 8,
   "metadata": {},
   "outputs": [
    {
     "data": {
      "text/plain": [
       "(400000, 6)"
      ]
     },
     "execution_count": 8,
     "metadata": {},
     "output_type": "execute_result"
    }
   ],
   "source": [
    "# Cantidad de lineas\n",
    "dataTraining.shape"
   ]
  },
  {
   "cell_type": "code",
   "execution_count": 9,
   "metadata": {},
   "outputs": [
    {
     "name": "stdout",
     "output_type": "stream",
     "text": [
      "<class 'pandas.core.frame.DataFrame'>\n",
      "RangeIndex: 400000 entries, 0 to 399999\n",
      "Data columns (total 6 columns):\n",
      " #   Column   Non-Null Count   Dtype \n",
      "---  ------   --------------   ----- \n",
      " 0   Price    400000 non-null  int64 \n",
      " 1   Year     400000 non-null  int64 \n",
      " 2   Mileage  400000 non-null  int64 \n",
      " 3   State    400000 non-null  object\n",
      " 4   Make     400000 non-null  object\n",
      " 5   Model    400000 non-null  object\n",
      "dtypes: int64(3), object(3)\n",
      "memory usage: 18.3+ MB\n"
     ]
    }
   ],
   "source": [
    "# Descripcion de la data\n",
    "dataTraining.info()"
   ]
  },
  {
   "cell_type": "code",
   "execution_count": 10,
   "metadata": {},
   "outputs": [
    {
     "data": {
      "text/plain": [
       "Price      0\n",
       "Year       0\n",
       "Mileage    0\n",
       "State      0\n",
       "Make       0\n",
       "Model      0\n",
       "dtype: int64"
      ]
     },
     "execution_count": 10,
     "metadata": {},
     "output_type": "execute_result"
    }
   ],
   "source": [
    "# Verificando valores faltantes\n",
    "dataTraining.isna().sum()"
   ]
  },
  {
   "cell_type": "code",
   "execution_count": 11,
   "metadata": {},
   "outputs": [
    {
     "data": {
      "text/html": [
       "<div>\n",
       "<style scoped>\n",
       "    .dataframe tbody tr th:only-of-type {\n",
       "        vertical-align: middle;\n",
       "    }\n",
       "\n",
       "    .dataframe tbody tr th {\n",
       "        vertical-align: top;\n",
       "    }\n",
       "\n",
       "    .dataframe thead th {\n",
       "        text-align: right;\n",
       "    }\n",
       "</style>\n",
       "<table border=\"1\" class=\"dataframe\">\n",
       "  <thead>\n",
       "    <tr style=\"text-align: right;\">\n",
       "      <th></th>\n",
       "      <th>Price</th>\n",
       "      <th>Year</th>\n",
       "      <th>Mileage</th>\n",
       "    </tr>\n",
       "  </thead>\n",
       "  <tbody>\n",
       "    <tr>\n",
       "      <th>count</th>\n",
       "      <td>400000.000000</td>\n",
       "      <td>400000.000000</td>\n",
       "      <td>4.000000e+05</td>\n",
       "    </tr>\n",
       "    <tr>\n",
       "      <th>mean</th>\n",
       "      <td>21146.919312</td>\n",
       "      <td>2013.198125</td>\n",
       "      <td>5.507296e+04</td>\n",
       "    </tr>\n",
       "    <tr>\n",
       "      <th>std</th>\n",
       "      <td>10753.664940</td>\n",
       "      <td>3.292326</td>\n",
       "      <td>4.088102e+04</td>\n",
       "    </tr>\n",
       "    <tr>\n",
       "      <th>min</th>\n",
       "      <td>5001.000000</td>\n",
       "      <td>1997.000000</td>\n",
       "      <td>5.000000e+00</td>\n",
       "    </tr>\n",
       "    <tr>\n",
       "      <th>25%</th>\n",
       "      <td>13499.000000</td>\n",
       "      <td>2012.000000</td>\n",
       "      <td>2.584100e+04</td>\n",
       "    </tr>\n",
       "    <tr>\n",
       "      <th>50%</th>\n",
       "      <td>18450.000000</td>\n",
       "      <td>2014.000000</td>\n",
       "      <td>4.295500e+04</td>\n",
       "    </tr>\n",
       "    <tr>\n",
       "      <th>75%</th>\n",
       "      <td>26999.000000</td>\n",
       "      <td>2016.000000</td>\n",
       "      <td>7.743300e+04</td>\n",
       "    </tr>\n",
       "    <tr>\n",
       "      <th>max</th>\n",
       "      <td>79999.000000</td>\n",
       "      <td>2018.000000</td>\n",
       "      <td>2.457832e+06</td>\n",
       "    </tr>\n",
       "  </tbody>\n",
       "</table>\n",
       "</div>"
      ],
      "text/plain": [
       "               Price           Year       Mileage\n",
       "count  400000.000000  400000.000000  4.000000e+05\n",
       "mean    21146.919312    2013.198125  5.507296e+04\n",
       "std     10753.664940       3.292326  4.088102e+04\n",
       "min      5001.000000    1997.000000  5.000000e+00\n",
       "25%     13499.000000    2012.000000  2.584100e+04\n",
       "50%     18450.000000    2014.000000  4.295500e+04\n",
       "75%     26999.000000    2016.000000  7.743300e+04\n",
       "max     79999.000000    2018.000000  2.457832e+06"
      ]
     },
     "execution_count": 11,
     "metadata": {},
     "output_type": "execute_result"
    }
   ],
   "source": [
    "#Descripcion de las variables numéricas\n",
    "dataTraining.describe()"
   ]
  },
  {
   "cell_type": "code",
   "execution_count": 12,
   "metadata": {},
   "outputs": [
    {
     "data": {
      "text/plain": [
       "Year\n",
       "1997       98\n",
       "1998      169\n",
       "1999      298\n",
       "2000      474\n",
       "2001      747\n",
       "2002     1188\n",
       "2003     1927\n",
       "2004     3423\n",
       "2005     4881\n",
       "2006     7185\n",
       "2007    11003\n",
       "2008    13509\n",
       "2009    10676\n",
       "2010    16650\n",
       "2011    23828\n",
       "2012    30907\n",
       "2013    32307\n",
       "2014    68181\n",
       "2015    71441\n",
       "2016    55947\n",
       "2017    44790\n",
       "2018      371\n",
       "Name: Price, dtype: int64"
      ]
     },
     "execution_count": 12,
     "metadata": {},
     "output_type": "execute_result"
    }
   ],
   "source": [
    "dataTraining.groupby(\"Year\")[\"Price\"].count()\n"
   ]
  },
  {
   "cell_type": "code",
   "execution_count": 95,
   "metadata": {},
   "outputs": [
    {
     "name": "stdout",
     "output_type": "stream",
     "text": [
      "Número de fabricantes en base de entrenamiento: 38\n",
      "Número de modelos de vehículos en base de entrenamiento: 525\n",
      "Número de estados: 51\n"
     ]
    }
   ],
   "source": [
    "print(\"Número de fabricantes en base de entrenamiento: \" + str(dataTraining[\"Make\"].value_counts().count()))\n",
    "print(\"Número de modelos de vehículos en base de entrenamiento: \" + str(dataTraining[\"Model\"].value_counts().count()))\n",
    "print(\"Número de estados: \" + str(dataTraining[\"State\"].value_counts().count()))"
   ]
  },
  {
   "cell_type": "code",
   "execution_count": 14,
   "metadata": {},
   "outputs": [
    {
     "name": "stdout",
     "output_type": "stream",
     "text": [
      "Fabricantes con más registros en la base de entrenamiento:\n",
      "Ford         62899\n",
      "Chevrolet    58383\n",
      "Toyota       45941\n",
      "Honda        33191\n",
      "Jeep         24369\n",
      "Name: Make, dtype: int64\n"
     ]
    }
   ],
   "source": [
    "print(\"Fabricantes con más registros en la base de entrenamiento:\")\n",
    "print(dataTraining[\"Make\"].value_counts().head())\n"
   ]
  },
  {
   "cell_type": "code",
   "execution_count": 15,
   "metadata": {},
   "outputs": [
    {
     "name": "stdout",
     "output_type": "stream",
     "text": [
      "Modelos de vehículos con más registros en la base de entrenamiento:\n",
      "Silverado    18085\n",
      "Grand        12344\n",
      "Sierra        8409\n",
      "Accord        7357\n",
      "F-1504WD      6684\n",
      "Name: Model, dtype: int64\n"
     ]
    }
   ],
   "source": [
    "print(\"Modelos de vehículos con más registros en la base de entrenamiento:\")\n",
    "print(dataTraining[\"Model\"].value_counts().head())"
   ]
  },
  {
   "cell_type": "code",
   "execution_count": 16,
   "metadata": {},
   "outputs": [
    {
     "data": {
      "text/html": [
       "<div>\n",
       "<style scoped>\n",
       "    .dataframe tbody tr th:only-of-type {\n",
       "        vertical-align: middle;\n",
       "    }\n",
       "\n",
       "    .dataframe tbody tr th {\n",
       "        vertical-align: top;\n",
       "    }\n",
       "\n",
       "    .dataframe thead th {\n",
       "        text-align: right;\n",
       "    }\n",
       "</style>\n",
       "<table border=\"1\" class=\"dataframe\">\n",
       "  <thead>\n",
       "    <tr style=\"text-align: right;\">\n",
       "      <th></th>\n",
       "      <th>count</th>\n",
       "      <th>mean</th>\n",
       "      <th>std</th>\n",
       "      <th>min</th>\n",
       "      <th>25%</th>\n",
       "      <th>50%</th>\n",
       "      <th>75%</th>\n",
       "      <th>max</th>\n",
       "      <th>coef_var</th>\n",
       "    </tr>\n",
       "    <tr>\n",
       "      <th>Make</th>\n",
       "      <th></th>\n",
       "      <th></th>\n",
       "      <th></th>\n",
       "      <th></th>\n",
       "      <th></th>\n",
       "      <th></th>\n",
       "      <th></th>\n",
       "      <th></th>\n",
       "      <th></th>\n",
       "    </tr>\n",
       "  </thead>\n",
       "  <tbody>\n",
       "    <tr>\n",
       "      <th>Chevrolet</th>\n",
       "      <td>10744.0</td>\n",
       "      <td>28821.217610</td>\n",
       "      <td>12180.971509</td>\n",
       "      <td>5991.0</td>\n",
       "      <td>17800.00</td>\n",
       "      <td>28500.0</td>\n",
       "      <td>37800.00</td>\n",
       "      <td>79990.0</td>\n",
       "      <td>0.422639</td>\n",
       "    </tr>\n",
       "    <tr>\n",
       "      <th>Ford</th>\n",
       "      <td>10393.0</td>\n",
       "      <td>27471.536226</td>\n",
       "      <td>10740.673892</td>\n",
       "      <td>6995.0</td>\n",
       "      <td>17975.00</td>\n",
       "      <td>26997.0</td>\n",
       "      <td>33995.00</td>\n",
       "      <td>79999.0</td>\n",
       "      <td>0.390975</td>\n",
       "    </tr>\n",
       "    <tr>\n",
       "      <th>Toyota</th>\n",
       "      <td>7981.0</td>\n",
       "      <td>21677.669214</td>\n",
       "      <td>8000.133234</td>\n",
       "      <td>8200.0</td>\n",
       "      <td>15200.00</td>\n",
       "      <td>18599.0</td>\n",
       "      <td>27988.00</td>\n",
       "      <td>64888.0</td>\n",
       "      <td>0.369050</td>\n",
       "    </tr>\n",
       "    <tr>\n",
       "      <th>Honda</th>\n",
       "      <td>6775.0</td>\n",
       "      <td>20458.938745</td>\n",
       "      <td>5435.772254</td>\n",
       "      <td>9950.0</td>\n",
       "      <td>15996.00</td>\n",
       "      <td>19350.0</td>\n",
       "      <td>24455.50</td>\n",
       "      <td>45480.0</td>\n",
       "      <td>0.265692</td>\n",
       "    </tr>\n",
       "    <tr>\n",
       "      <th>GMC</th>\n",
       "      <td>4716.0</td>\n",
       "      <td>35092.651824</td>\n",
       "      <td>11112.206614</td>\n",
       "      <td>11891.0</td>\n",
       "      <td>25993.75</td>\n",
       "      <td>34995.0</td>\n",
       "      <td>42995.00</td>\n",
       "      <td>72995.0</td>\n",
       "      <td>0.316653</td>\n",
       "    </tr>\n",
       "    <tr>\n",
       "      <th>Jeep</th>\n",
       "      <td>4668.0</td>\n",
       "      <td>28196.073907</td>\n",
       "      <td>7430.402656</td>\n",
       "      <td>8499.0</td>\n",
       "      <td>24789.75</td>\n",
       "      <td>29471.0</td>\n",
       "      <td>32627.25</td>\n",
       "      <td>79994.0</td>\n",
       "      <td>0.263526</td>\n",
       "    </tr>\n",
       "    <tr>\n",
       "      <th>Kia</th>\n",
       "      <td>3733.0</td>\n",
       "      <td>15766.375301</td>\n",
       "      <td>3387.912231</td>\n",
       "      <td>5892.0</td>\n",
       "      <td>13500.00</td>\n",
       "      <td>15396.0</td>\n",
       "      <td>17550.00</td>\n",
       "      <td>32150.0</td>\n",
       "      <td>0.214882</td>\n",
       "    </tr>\n",
       "    <tr>\n",
       "      <th>Lexus</th>\n",
       "      <td>3614.0</td>\n",
       "      <td>33015.885722</td>\n",
       "      <td>7180.882917</td>\n",
       "      <td>16088.0</td>\n",
       "      <td>28499.00</td>\n",
       "      <td>32488.5</td>\n",
       "      <td>35997.00</td>\n",
       "      <td>69995.0</td>\n",
       "      <td>0.217498</td>\n",
       "    </tr>\n",
       "    <tr>\n",
       "      <th>Volkswagen</th>\n",
       "      <td>2520.0</td>\n",
       "      <td>16049.100000</td>\n",
       "      <td>3665.394392</td>\n",
       "      <td>6995.0</td>\n",
       "      <td>13250.00</td>\n",
       "      <td>15822.5</td>\n",
       "      <td>18391.25</td>\n",
       "      <td>34495.0</td>\n",
       "      <td>0.228386</td>\n",
       "    </tr>\n",
       "    <tr>\n",
       "      <th>Hyundai</th>\n",
       "      <td>2449.0</td>\n",
       "      <td>16516.497346</td>\n",
       "      <td>3851.390007</td>\n",
       "      <td>7899.0</td>\n",
       "      <td>13777.00</td>\n",
       "      <td>15980.0</td>\n",
       "      <td>18900.00</td>\n",
       "      <td>31999.0</td>\n",
       "      <td>0.233184</td>\n",
       "    </tr>\n",
       "  </tbody>\n",
       "</table>\n",
       "</div>"
      ],
      "text/plain": [
       "              count          mean           std      min       25%      50%  \\\n",
       "Make                                                                          \n",
       "Chevrolet   10744.0  28821.217610  12180.971509   5991.0  17800.00  28500.0   \n",
       "Ford        10393.0  27471.536226  10740.673892   6995.0  17975.00  26997.0   \n",
       "Toyota       7981.0  21677.669214   8000.133234   8200.0  15200.00  18599.0   \n",
       "Honda        6775.0  20458.938745   5435.772254   9950.0  15996.00  19350.0   \n",
       "GMC          4716.0  35092.651824  11112.206614  11891.0  25993.75  34995.0   \n",
       "Jeep         4668.0  28196.073907   7430.402656   8499.0  24789.75  29471.0   \n",
       "Kia          3733.0  15766.375301   3387.912231   5892.0  13500.00  15396.0   \n",
       "Lexus        3614.0  33015.885722   7180.882917  16088.0  28499.00  32488.5   \n",
       "Volkswagen   2520.0  16049.100000   3665.394392   6995.0  13250.00  15822.5   \n",
       "Hyundai      2449.0  16516.497346   3851.390007   7899.0  13777.00  15980.0   \n",
       "\n",
       "                 75%      max  coef_var  \n",
       "Make                                     \n",
       "Chevrolet   37800.00  79990.0  0.422639  \n",
       "Ford        33995.00  79999.0  0.390975  \n",
       "Toyota      27988.00  64888.0  0.369050  \n",
       "Honda       24455.50  45480.0  0.265692  \n",
       "GMC         42995.00  72995.0  0.316653  \n",
       "Jeep        32627.25  79994.0  0.263526  \n",
       "Kia         17550.00  32150.0  0.214882  \n",
       "Lexus       35997.00  69995.0  0.217498  \n",
       "Volkswagen  18391.25  34495.0  0.228386  \n",
       "Hyundai     18900.00  31999.0  0.233184  "
      ]
     },
     "execution_count": 16,
     "metadata": {},
     "output_type": "execute_result"
    }
   ],
   "source": [
    "#Tomando como muestra el año 2015, se revisa la disperción de la variable respuesta por fabricante\n",
    "make_price = dataTraining[dataTraining.Year == 2015].groupby(\"Make\")[\"Price\"].describe().sort_values(by=['count'], ascending= False)\n",
    "make_price[\"coef_var\"] = make_price[\"std\"]/make_price[\"mean\"]\n",
    "make_price.head(10)\n"
   ]
  },
  {
   "cell_type": "markdown",
   "metadata": {},
   "source": [
    "Existe una gran dispersión de los valores que toma el precio por fabricante."
   ]
  },
  {
   "cell_type": "code",
   "execution_count": 17,
   "metadata": {},
   "outputs": [
    {
     "data": {
      "text/html": [
       "<div>\n",
       "<style scoped>\n",
       "    .dataframe tbody tr th:only-of-type {\n",
       "        vertical-align: middle;\n",
       "    }\n",
       "\n",
       "    .dataframe tbody tr th {\n",
       "        vertical-align: top;\n",
       "    }\n",
       "\n",
       "    .dataframe thead th {\n",
       "        text-align: right;\n",
       "    }\n",
       "</style>\n",
       "<table border=\"1\" class=\"dataframe\">\n",
       "  <thead>\n",
       "    <tr style=\"text-align: right;\">\n",
       "      <th></th>\n",
       "      <th>count</th>\n",
       "      <th>mean</th>\n",
       "      <th>std</th>\n",
       "      <th>min</th>\n",
       "      <th>25%</th>\n",
       "      <th>50%</th>\n",
       "      <th>75%</th>\n",
       "      <th>max</th>\n",
       "      <th>coef_var</th>\n",
       "    </tr>\n",
       "    <tr>\n",
       "      <th>Model</th>\n",
       "      <th></th>\n",
       "      <th></th>\n",
       "      <th></th>\n",
       "      <th></th>\n",
       "      <th></th>\n",
       "      <th></th>\n",
       "      <th></th>\n",
       "      <th></th>\n",
       "      <th></th>\n",
       "    </tr>\n",
       "  </thead>\n",
       "  <tbody>\n",
       "    <tr>\n",
       "      <th>Silverado</th>\n",
       "      <td>4012.0</td>\n",
       "      <td>34533.281904</td>\n",
       "      <td>7889.541162</td>\n",
       "      <td>15900.0</td>\n",
       "      <td>29390.25</td>\n",
       "      <td>32493.0</td>\n",
       "      <td>37988.25</td>\n",
       "      <td>67995.0</td>\n",
       "      <td>0.228462</td>\n",
       "    </tr>\n",
       "    <tr>\n",
       "      <th>Grand</th>\n",
       "      <td>2301.0</td>\n",
       "      <td>28023.986528</td>\n",
       "      <td>6739.625525</td>\n",
       "      <td>9588.0</td>\n",
       "      <td>25000.00</td>\n",
       "      <td>28950.0</td>\n",
       "      <td>31499.00</td>\n",
       "      <td>61975.0</td>\n",
       "      <td>0.240495</td>\n",
       "    </tr>\n",
       "    <tr>\n",
       "      <th>Sierra</th>\n",
       "      <td>1877.0</td>\n",
       "      <td>38468.481620</td>\n",
       "      <td>8165.791511</td>\n",
       "      <td>17900.0</td>\n",
       "      <td>32990.00</td>\n",
       "      <td>37691.0</td>\n",
       "      <td>41980.00</td>\n",
       "      <td>72995.0</td>\n",
       "      <td>0.212272</td>\n",
       "    </tr>\n",
       "    <tr>\n",
       "      <th>F-1504WD</th>\n",
       "      <td>1551.0</td>\n",
       "      <td>36461.205029</td>\n",
       "      <td>5771.081324</td>\n",
       "      <td>21988.0</td>\n",
       "      <td>31995.00</td>\n",
       "      <td>35493.0</td>\n",
       "      <td>40986.50</td>\n",
       "      <td>69998.0</td>\n",
       "      <td>0.158280</td>\n",
       "    </tr>\n",
       "    <tr>\n",
       "      <th>Accord</th>\n",
       "      <td>1490.0</td>\n",
       "      <td>18291.570470</td>\n",
       "      <td>2406.929607</td>\n",
       "      <td>11997.0</td>\n",
       "      <td>16554.00</td>\n",
       "      <td>17991.5</td>\n",
       "      <td>19959.00</td>\n",
       "      <td>27995.0</td>\n",
       "      <td>0.131587</td>\n",
       "    </tr>\n",
       "    <tr>\n",
       "      <th>Wrangler</th>\n",
       "      <td>1426.0</td>\n",
       "      <td>33326.608696</td>\n",
       "      <td>4396.209021</td>\n",
       "      <td>21999.0</td>\n",
       "      <td>30415.25</td>\n",
       "      <td>32745.5</td>\n",
       "      <td>35771.00</td>\n",
       "      <td>79994.0</td>\n",
       "      <td>0.131913</td>\n",
       "    </tr>\n",
       "    <tr>\n",
       "      <th>EquinoxFWD</th>\n",
       "      <td>1276.0</td>\n",
       "      <td>17469.612853</td>\n",
       "      <td>2188.471233</td>\n",
       "      <td>9000.0</td>\n",
       "      <td>15997.00</td>\n",
       "      <td>17464.5</td>\n",
       "      <td>18700.00</td>\n",
       "      <td>26850.0</td>\n",
       "      <td>0.125273</td>\n",
       "    </tr>\n",
       "    <tr>\n",
       "      <th>Civic</th>\n",
       "      <td>1272.0</td>\n",
       "      <td>15395.072327</td>\n",
       "      <td>2349.005097</td>\n",
       "      <td>9950.0</td>\n",
       "      <td>13843.50</td>\n",
       "      <td>14995.0</td>\n",
       "      <td>16582.75</td>\n",
       "      <td>23556.0</td>\n",
       "      <td>0.152582</td>\n",
       "    </tr>\n",
       "    <tr>\n",
       "      <th>Jetta</th>\n",
       "      <td>1243.0</td>\n",
       "      <td>14518.263878</td>\n",
       "      <td>2889.258490</td>\n",
       "      <td>6995.0</td>\n",
       "      <td>12411.00</td>\n",
       "      <td>14331.0</td>\n",
       "      <td>16277.50</td>\n",
       "      <td>25995.0</td>\n",
       "      <td>0.199009</td>\n",
       "    </tr>\n",
       "    <tr>\n",
       "      <th>ExplorerXLT</th>\n",
       "      <td>1176.0</td>\n",
       "      <td>26767.683673</td>\n",
       "      <td>2653.605155</td>\n",
       "      <td>15447.0</td>\n",
       "      <td>24995.00</td>\n",
       "      <td>26980.0</td>\n",
       "      <td>28599.00</td>\n",
       "      <td>38955.0</td>\n",
       "      <td>0.099135</td>\n",
       "    </tr>\n",
       "  </tbody>\n",
       "</table>\n",
       "</div>"
      ],
      "text/plain": [
       "              count          mean          std      min       25%      50%  \\\n",
       "Model                                                                        \n",
       "Silverado    4012.0  34533.281904  7889.541162  15900.0  29390.25  32493.0   \n",
       "Grand        2301.0  28023.986528  6739.625525   9588.0  25000.00  28950.0   \n",
       "Sierra       1877.0  38468.481620  8165.791511  17900.0  32990.00  37691.0   \n",
       "F-1504WD     1551.0  36461.205029  5771.081324  21988.0  31995.00  35493.0   \n",
       "Accord       1490.0  18291.570470  2406.929607  11997.0  16554.00  17991.5   \n",
       "Wrangler     1426.0  33326.608696  4396.209021  21999.0  30415.25  32745.5   \n",
       "EquinoxFWD   1276.0  17469.612853  2188.471233   9000.0  15997.00  17464.5   \n",
       "Civic        1272.0  15395.072327  2349.005097   9950.0  13843.50  14995.0   \n",
       "Jetta        1243.0  14518.263878  2889.258490   6995.0  12411.00  14331.0   \n",
       "ExplorerXLT  1176.0  26767.683673  2653.605155  15447.0  24995.00  26980.0   \n",
       "\n",
       "                  75%      max  coef_var  \n",
       "Model                                     \n",
       "Silverado    37988.25  67995.0  0.228462  \n",
       "Grand        31499.00  61975.0  0.240495  \n",
       "Sierra       41980.00  72995.0  0.212272  \n",
       "F-1504WD     40986.50  69998.0  0.158280  \n",
       "Accord       19959.00  27995.0  0.131587  \n",
       "Wrangler     35771.00  79994.0  0.131913  \n",
       "EquinoxFWD   18700.00  26850.0  0.125273  \n",
       "Civic        16582.75  23556.0  0.152582  \n",
       "Jetta        16277.50  25995.0  0.199009  \n",
       "ExplorerXLT  28599.00  38955.0  0.099135  "
      ]
     },
     "execution_count": 17,
     "metadata": {},
     "output_type": "execute_result"
    }
   ],
   "source": [
    "#Tomando como muestra el año 2015, se revisa la disperción de la variable respuesta por modelo\n",
    "model_price = dataTraining[dataTraining.Year == 2015].groupby(\"Model\")[\"Price\"].describe().sort_values(by=['count'], ascending= False)\n",
    "model_price[\"coef_var\"] = model_price[\"std\"]/model_price[\"mean\"]\n",
    "model_price.head(10)"
   ]
  },
  {
   "cell_type": "markdown",
   "metadata": {},
   "source": [
    "Existe disperción de los valores que toma el precio por modelo. Sin embargo, es menor que analizando solo fabricante."
   ]
  },
  {
   "cell_type": "code",
   "execution_count": 18,
   "metadata": {},
   "outputs": [
    {
     "name": "stdout",
     "output_type": "stream",
     "text": [
      "Make   Model  \n",
      "Acura  MDX4WD     276\n",
      "       MDXAWD     807\n",
      "       RDXAWD     490\n",
      "       RDXFWD     313\n",
      "       TL4dr      292\n",
      "                 ... \n",
      "Volvo  XC60T6     258\n",
      "       XC704dr     76\n",
      "       XC90AWD    350\n",
      "       XC90FWD     94\n",
      "       XC90T6      68\n",
      "Name: Price, Length: 536, dtype: int64\n",
      "Existen 11 nombres de modelos de vehículos repetidos\n"
     ]
    }
   ],
   "source": [
    "print(dataTraining.groupby([\"Make\",\"Model\"])[\"Price\"].count())\n",
    "print(\"Existen 11 nombres de modelos de vehículos repetidos\")"
   ]
  },
  {
   "cell_type": "markdown",
   "metadata": {},
   "source": [
    "## Codificación de variables categóricas (Binary encoding)"
   ]
  },
  {
   "cell_type": "code",
   "execution_count": 19,
   "metadata": {},
   "outputs": [
    {
     "data": {
      "text/html": [
       "<div>\n",
       "<style scoped>\n",
       "    .dataframe tbody tr th:only-of-type {\n",
       "        vertical-align: middle;\n",
       "    }\n",
       "\n",
       "    .dataframe tbody tr th {\n",
       "        vertical-align: top;\n",
       "    }\n",
       "\n",
       "    .dataframe thead th {\n",
       "        text-align: right;\n",
       "    }\n",
       "</style>\n",
       "<table border=\"1\" class=\"dataframe\">\n",
       "  <thead>\n",
       "    <tr style=\"text-align: right;\">\n",
       "      <th></th>\n",
       "      <th>Price</th>\n",
       "      <th>Year</th>\n",
       "      <th>Mileage</th>\n",
       "      <th>State</th>\n",
       "      <th>Make</th>\n",
       "      <th>Model</th>\n",
       "    </tr>\n",
       "  </thead>\n",
       "  <tbody>\n",
       "    <tr>\n",
       "      <th>0</th>\n",
       "      <td>34995</td>\n",
       "      <td>2017</td>\n",
       "      <td>9913</td>\n",
       "      <td>FL</td>\n",
       "      <td>Jeep</td>\n",
       "      <td>Wrangler</td>\n",
       "    </tr>\n",
       "    <tr>\n",
       "      <th>1</th>\n",
       "      <td>37895</td>\n",
       "      <td>2015</td>\n",
       "      <td>20578</td>\n",
       "      <td>OH</td>\n",
       "      <td>Chevrolet</td>\n",
       "      <td>Tahoe4WD</td>\n",
       "    </tr>\n",
       "    <tr>\n",
       "      <th>2</th>\n",
       "      <td>18430</td>\n",
       "      <td>2012</td>\n",
       "      <td>83716</td>\n",
       "      <td>TX</td>\n",
       "      <td>BMW</td>\n",
       "      <td>X5AWD</td>\n",
       "    </tr>\n",
       "    <tr>\n",
       "      <th>3</th>\n",
       "      <td>24681</td>\n",
       "      <td>2014</td>\n",
       "      <td>28729</td>\n",
       "      <td>OH</td>\n",
       "      <td>Cadillac</td>\n",
       "      <td>SRXLuxury</td>\n",
       "    </tr>\n",
       "    <tr>\n",
       "      <th>4</th>\n",
       "      <td>26998</td>\n",
       "      <td>2013</td>\n",
       "      <td>64032</td>\n",
       "      <td>CO</td>\n",
       "      <td>Jeep</td>\n",
       "      <td>Wrangler</td>\n",
       "    </tr>\n",
       "  </tbody>\n",
       "</table>\n",
       "</div>"
      ],
      "text/plain": [
       "   Price  Year  Mileage State       Make      Model\n",
       "0  34995  2017     9913    FL       Jeep   Wrangler\n",
       "1  37895  2015    20578    OH  Chevrolet   Tahoe4WD\n",
       "2  18430  2012    83716    TX        BMW      X5AWD\n",
       "3  24681  2014    28729    OH   Cadillac  SRXLuxury\n",
       "4  26998  2013    64032    CO       Jeep   Wrangler"
      ]
     },
     "execution_count": 19,
     "metadata": {},
     "output_type": "execute_result"
    }
   ],
   "source": [
    "dataTraining.head()"
   ]
  },
  {
   "cell_type": "code",
   "execution_count": 20,
   "metadata": {},
   "outputs": [],
   "source": [
    "# dado que la información del modelo del vehículo debería estar contenida dentro de la información del fabricante, se eliminará esta última \n",
    "# hipótesis: la información por estado no es muy relevante en el precio de los vehículos\n",
    "\n",
    "dataTraining2 = dataTraining.drop([\"Make\",\"State\"], axis = 1)\n"
   ]
  },
  {
   "cell_type": "code",
   "execution_count": 21,
   "metadata": {},
   "outputs": [],
   "source": [
    "#pip install --upgrade category_encoders"
   ]
  },
  {
   "cell_type": "code",
   "execution_count": 22,
   "metadata": {},
   "outputs": [
    {
     "data": {
      "text/html": [
       "<div>\n",
       "<style scoped>\n",
       "    .dataframe tbody tr th:only-of-type {\n",
       "        vertical-align: middle;\n",
       "    }\n",
       "\n",
       "    .dataframe tbody tr th {\n",
       "        vertical-align: top;\n",
       "    }\n",
       "\n",
       "    .dataframe thead th {\n",
       "        text-align: right;\n",
       "    }\n",
       "</style>\n",
       "<table border=\"1\" class=\"dataframe\">\n",
       "  <thead>\n",
       "    <tr style=\"text-align: right;\">\n",
       "      <th></th>\n",
       "      <th>Price</th>\n",
       "      <th>Year</th>\n",
       "      <th>Mileage</th>\n",
       "      <th>Model_0</th>\n",
       "      <th>Model_1</th>\n",
       "      <th>Model_2</th>\n",
       "      <th>Model_3</th>\n",
       "      <th>Model_4</th>\n",
       "      <th>Model_5</th>\n",
       "      <th>Model_6</th>\n",
       "      <th>Model_7</th>\n",
       "      <th>Model_8</th>\n",
       "      <th>Model_9</th>\n",
       "    </tr>\n",
       "  </thead>\n",
       "  <tbody>\n",
       "    <tr>\n",
       "      <th>0</th>\n",
       "      <td>34995</td>\n",
       "      <td>2017</td>\n",
       "      <td>9913</td>\n",
       "      <td>0</td>\n",
       "      <td>0</td>\n",
       "      <td>0</td>\n",
       "      <td>0</td>\n",
       "      <td>0</td>\n",
       "      <td>0</td>\n",
       "      <td>0</td>\n",
       "      <td>0</td>\n",
       "      <td>0</td>\n",
       "      <td>1</td>\n",
       "    </tr>\n",
       "    <tr>\n",
       "      <th>1</th>\n",
       "      <td>37895</td>\n",
       "      <td>2015</td>\n",
       "      <td>20578</td>\n",
       "      <td>0</td>\n",
       "      <td>0</td>\n",
       "      <td>0</td>\n",
       "      <td>0</td>\n",
       "      <td>0</td>\n",
       "      <td>0</td>\n",
       "      <td>0</td>\n",
       "      <td>0</td>\n",
       "      <td>1</td>\n",
       "      <td>0</td>\n",
       "    </tr>\n",
       "    <tr>\n",
       "      <th>2</th>\n",
       "      <td>18430</td>\n",
       "      <td>2012</td>\n",
       "      <td>83716</td>\n",
       "      <td>0</td>\n",
       "      <td>0</td>\n",
       "      <td>0</td>\n",
       "      <td>0</td>\n",
       "      <td>0</td>\n",
       "      <td>0</td>\n",
       "      <td>0</td>\n",
       "      <td>0</td>\n",
       "      <td>1</td>\n",
       "      <td>1</td>\n",
       "    </tr>\n",
       "    <tr>\n",
       "      <th>3</th>\n",
       "      <td>24681</td>\n",
       "      <td>2014</td>\n",
       "      <td>28729</td>\n",
       "      <td>0</td>\n",
       "      <td>0</td>\n",
       "      <td>0</td>\n",
       "      <td>0</td>\n",
       "      <td>0</td>\n",
       "      <td>0</td>\n",
       "      <td>0</td>\n",
       "      <td>1</td>\n",
       "      <td>0</td>\n",
       "      <td>0</td>\n",
       "    </tr>\n",
       "    <tr>\n",
       "      <th>4</th>\n",
       "      <td>26998</td>\n",
       "      <td>2013</td>\n",
       "      <td>64032</td>\n",
       "      <td>0</td>\n",
       "      <td>0</td>\n",
       "      <td>0</td>\n",
       "      <td>0</td>\n",
       "      <td>0</td>\n",
       "      <td>0</td>\n",
       "      <td>0</td>\n",
       "      <td>0</td>\n",
       "      <td>0</td>\n",
       "      <td>1</td>\n",
       "    </tr>\n",
       "    <tr>\n",
       "      <th>...</th>\n",
       "      <td>...</td>\n",
       "      <td>...</td>\n",
       "      <td>...</td>\n",
       "      <td>...</td>\n",
       "      <td>...</td>\n",
       "      <td>...</td>\n",
       "      <td>...</td>\n",
       "      <td>...</td>\n",
       "      <td>...</td>\n",
       "      <td>...</td>\n",
       "      <td>...</td>\n",
       "      <td>...</td>\n",
       "      <td>...</td>\n",
       "    </tr>\n",
       "    <tr>\n",
       "      <th>399995</th>\n",
       "      <td>29900</td>\n",
       "      <td>2015</td>\n",
       "      <td>25287</td>\n",
       "      <td>0</td>\n",
       "      <td>1</td>\n",
       "      <td>0</td>\n",
       "      <td>0</td>\n",
       "      <td>0</td>\n",
       "      <td>1</td>\n",
       "      <td>0</td>\n",
       "      <td>1</td>\n",
       "      <td>1</td>\n",
       "      <td>1</td>\n",
       "    </tr>\n",
       "    <tr>\n",
       "      <th>399996</th>\n",
       "      <td>17688</td>\n",
       "      <td>2015</td>\n",
       "      <td>17677</td>\n",
       "      <td>0</td>\n",
       "      <td>0</td>\n",
       "      <td>0</td>\n",
       "      <td>1</td>\n",
       "      <td>1</td>\n",
       "      <td>0</td>\n",
       "      <td>1</td>\n",
       "      <td>0</td>\n",
       "      <td>0</td>\n",
       "      <td>0</td>\n",
       "    </tr>\n",
       "    <tr>\n",
       "      <th>399997</th>\n",
       "      <td>24907</td>\n",
       "      <td>2014</td>\n",
       "      <td>66688</td>\n",
       "      <td>0</td>\n",
       "      <td>0</td>\n",
       "      <td>0</td>\n",
       "      <td>1</td>\n",
       "      <td>1</td>\n",
       "      <td>1</td>\n",
       "      <td>0</td>\n",
       "      <td>1</td>\n",
       "      <td>1</td>\n",
       "      <td>1</td>\n",
       "    </tr>\n",
       "    <tr>\n",
       "      <th>399998</th>\n",
       "      <td>11498</td>\n",
       "      <td>2014</td>\n",
       "      <td>37872</td>\n",
       "      <td>0</td>\n",
       "      <td>0</td>\n",
       "      <td>0</td>\n",
       "      <td>0</td>\n",
       "      <td>0</td>\n",
       "      <td>0</td>\n",
       "      <td>1</td>\n",
       "      <td>1</td>\n",
       "      <td>0</td>\n",
       "      <td>0</td>\n",
       "    </tr>\n",
       "    <tr>\n",
       "      <th>399999</th>\n",
       "      <td>16900</td>\n",
       "      <td>2014</td>\n",
       "      <td>78606</td>\n",
       "      <td>0</td>\n",
       "      <td>0</td>\n",
       "      <td>1</td>\n",
       "      <td>1</td>\n",
       "      <td>1</td>\n",
       "      <td>0</td>\n",
       "      <td>1</td>\n",
       "      <td>1</td>\n",
       "      <td>1</td>\n",
       "      <td>0</td>\n",
       "    </tr>\n",
       "  </tbody>\n",
       "</table>\n",
       "<p>400000 rows × 13 columns</p>\n",
       "</div>"
      ],
      "text/plain": [
       "        Price  Year  Mileage  Model_0  Model_1  Model_2  Model_3  Model_4  \\\n",
       "0       34995  2017     9913        0        0        0        0        0   \n",
       "1       37895  2015    20578        0        0        0        0        0   \n",
       "2       18430  2012    83716        0        0        0        0        0   \n",
       "3       24681  2014    28729        0        0        0        0        0   \n",
       "4       26998  2013    64032        0        0        0        0        0   \n",
       "...       ...   ...      ...      ...      ...      ...      ...      ...   \n",
       "399995  29900  2015    25287        0        1        0        0        0   \n",
       "399996  17688  2015    17677        0        0        0        1        1   \n",
       "399997  24907  2014    66688        0        0        0        1        1   \n",
       "399998  11498  2014    37872        0        0        0        0        0   \n",
       "399999  16900  2014    78606        0        0        1        1        1   \n",
       "\n",
       "        Model_5  Model_6  Model_7  Model_8  Model_9  \n",
       "0             0        0        0        0        1  \n",
       "1             0        0        0        1        0  \n",
       "2             0        0        0        1        1  \n",
       "3             0        0        1        0        0  \n",
       "4             0        0        0        0        1  \n",
       "...         ...      ...      ...      ...      ...  \n",
       "399995        1        0        1        1        1  \n",
       "399996        0        1        0        0        0  \n",
       "399997        1        0        1        1        1  \n",
       "399998        0        1        1        0        0  \n",
       "399999        0        1        1        1        0  \n",
       "\n",
       "[400000 rows x 13 columns]"
      ]
     },
     "execution_count": 22,
     "metadata": {},
     "output_type": "execute_result"
    }
   ],
   "source": [
    "#  encoding binario para la variable modelo\n",
    "\n",
    "from category_encoders import *\n",
    "\n",
    "enc = BinaryEncoder(cols=['Model']).fit(dataTraining2)\n",
    "\n",
    "# transformación de la tabla\n",
    "dataTraining3 = enc.transform(dataTraining2)\n",
    "dataTraining3"
   ]
  },
  {
   "cell_type": "markdown",
   "metadata": {},
   "source": [
    "### Codificación de tabla Test"
   ]
  },
  {
   "cell_type": "code",
   "execution_count": 24,
   "metadata": {},
   "outputs": [],
   "source": [
    "dataTesting2 = dataTesting.drop([\"Make\",\"State\"], axis = 1)\n",
    "\n",
    "enc = BinaryEncoder(cols=['Model']).fit(dataTesting2)\n",
    "\n",
    "# transform the dataset\n",
    "dataTesting3 = enc.transform(dataTesting2)\n"
   ]
  },
  {
   "cell_type": "markdown",
   "metadata": {},
   "source": [
    "### Separacion de X_Train, X_Validation\n",
    "Se separa la tabla de dataTraining3 para entrenar y calibrar el modelo "
   ]
  },
  {
   "cell_type": "code",
   "execution_count": 25,
   "metadata": {},
   "outputs": [
    {
     "data": {
      "text/plain": [
       "((400000, 12), (400000,))"
      ]
     },
     "execution_count": 25,
     "metadata": {},
     "output_type": "execute_result"
    }
   ],
   "source": [
    "# Separación de variables predictoras (X) y variable de interes (y)\n",
    "\n",
    "X = dataTraining3.drop(columns='Price')\n",
    "Y = dataTraining3['Price']\n",
    "\n",
    "X.shape, Y.shape"
   ]
  },
  {
   "cell_type": "code",
   "execution_count": 27,
   "metadata": {},
   "outputs": [],
   "source": [
    "from sklearn.model_selection import train_test_split\n",
    "\n",
    "X_Train, X_Val, Y_Train, Y_Val = train_test_split(X, Y, test_size = 0.25)"
   ]
  },
  {
   "cell_type": "markdown",
   "metadata": {},
   "source": [
    "## Random Forest como algoritmo predictor"
   ]
  },
  {
   "cell_type": "markdown",
   "metadata": {},
   "source": [
    "Modelo sin calibrar parámetros:"
   ]
  },
  {
   "cell_type": "code",
   "execution_count": 94,
   "metadata": {},
   "outputs": [
    {
     "data": {
      "text/plain": [
       "RandomForestRegressor()"
      ]
     },
     "execution_count": 94,
     "metadata": {},
     "output_type": "execute_result"
    }
   ],
   "source": [
    "from sklearn.ensemble import RandomForestRegressor\n",
    "\n",
    "RFR = RandomForestRegressor()\n",
    "\n",
    "RFR.fit(X_Train, Y_Train)"
   ]
  },
  {
   "cell_type": "code",
   "execution_count": 65,
   "metadata": {},
   "outputs": [],
   "source": [
    "y_pred = RFR.predict(X_Val)"
   ]
  },
  {
   "cell_type": "code",
   "execution_count": 66,
   "metadata": {},
   "outputs": [
    {
     "data": {
      "text/plain": [
       "4280.443042800376"
      ]
     },
     "execution_count": 66,
     "metadata": {},
     "output_type": "execute_result"
    }
   ],
   "source": [
    "from sklearn.metrics import mean_squared_error\n",
    " \n",
    "mse_0 = mean_squared_error(Y_Val, y_pred, squared=False)\n",
    "mse_0"
   ]
  },
  {
   "cell_type": "markdown",
   "metadata": {},
   "source": [
    "### Calibración de parámetros"
   ]
  },
  {
   "cell_type": "code",
   "execution_count": 44,
   "metadata": {},
   "outputs": [
    {
     "data": {
      "text/plain": [
       "RandomForestRegressor()"
      ]
     },
     "execution_count": 44,
     "metadata": {},
     "output_type": "execute_result"
    }
   ],
   "source": [
    "RFR.fit(X_Val, Y_Val)\n"
   ]
  },
  {
   "cell_type": "code",
   "execution_count": 48,
   "metadata": {},
   "outputs": [
    {
     "data": {
      "text/plain": [
       "0.81732162031698"
      ]
     },
     "execution_count": 48,
     "metadata": {},
     "output_type": "execute_result"
    }
   ],
   "source": [
    "from sklearn.model_selection import cross_val_score\n",
    "\n",
    "cross_val_score(RFR, X_Val, Y_Val).mean()"
   ]
  },
  {
   "cell_type": "code",
   "execution_count": 56,
   "metadata": {},
   "outputs": [],
   "source": [
    "max_depths = np.arange(1,10,1)\n",
    "max_features_r = np.arange(1,X_Val.shape[1]+1,1)\n",
    "n_estimators_r = np.arange(1,220,10)"
   ]
  },
  {
   "cell_type": "code",
   "execution_count": 70,
   "metadata": {},
   "outputs": [
    {
     "name": "stdout",
     "output_type": "stream",
     "text": [
      "[1 2 3 4 5 6 7 8 9]\n",
      "[ 1  2  3  4  5  6  7  8  9 10 11 12]\n",
      "[  1  11  21  31  41  51  61  71  81  91 101 111 121 131 141 151 161 171\n",
      " 181 191 201 211]\n"
     ]
    }
   ],
   "source": [
    "print(max_depths)\n",
    "print(max_features_r)\n",
    "print(n_estimators_r)"
   ]
  },
  {
   "cell_type": "code",
   "execution_count": 58,
   "metadata": {},
   "outputs": [
    {
     "data": {
      "text/plain": [
       "GridSearchCV(estimator=RandomForestRegressor(), n_jobs=-1,\n",
       "             param_grid={'max_depth': array([1, 2, 3, 4, 5, 6, 7, 8, 9]),\n",
       "                         'max_features': array([ 1,  2,  3,  4,  5,  6,  7,  8,  9, 10, 11, 12]),\n",
       "                         'n_estimators': array([  1,  11,  21,  31,  41,  51,  61,  71,  81,  91, 101, 111, 121,\n",
       "       131, 141, 151, 161, 171, 181, 191, 201, 211])})"
      ]
     },
     "execution_count": 58,
     "metadata": {},
     "output_type": "execute_result"
    }
   ],
   "source": [
    "from sklearn.model_selection import GridSearchCV\n",
    "\n",
    "parameters = {'max_depth':max_depths , 'max_features': max_features_r, 'n_estimators': n_estimators_r}\n",
    "\n",
    "RF_calib = GridSearchCV(RFR,parameters, n_jobs=-1)\n",
    "RF_calib.fit(X_Val,Y_Val)"
   ]
  },
  {
   "cell_type": "code",
   "execution_count": 67,
   "metadata": {},
   "outputs": [
    {
     "data": {
      "text/plain": [
       "{'max_depth': 9, 'max_features': 1, 'n_estimators': 191}"
      ]
     },
     "execution_count": 67,
     "metadata": {},
     "output_type": "execute_result"
    }
   ],
   "source": [
    "RF_calib.best_params_"
   ]
  },
  {
   "cell_type": "markdown",
   "metadata": {},
   "source": [
    "### Entrenamiento del modelo"
   ]
  },
  {
   "cell_type": "code",
   "execution_count": 79,
   "metadata": {},
   "outputs": [
    {
     "data": {
      "text/plain": [
       "RandomForestRegressor(max_depth=9, max_features=1, n_estimators=191)"
      ]
     },
     "execution_count": 79,
     "metadata": {},
     "output_type": "execute_result"
    }
   ],
   "source": [
    "RFR = RandomForestRegressor(max_depth=9, max_features=1, n_estimators=191)\n",
    "\n",
    "RFR.fit(X_Train, Y_Train)"
   ]
  },
  {
   "cell_type": "code",
   "execution_count": 74,
   "metadata": {},
   "outputs": [
    {
     "data": {
      "text/plain": [
       "6550.457421612165"
      ]
     },
     "execution_count": 74,
     "metadata": {},
     "output_type": "execute_result"
    }
   ],
   "source": [
    "y_pred = RFR.predict(X_Val)\n",
    "mse_1 = mean_squared_error(Y_Val, y_pred, squared=False)\n",
    "mse_1"
   ]
  },
  {
   "cell_type": "code",
   "execution_count": 77,
   "metadata": {},
   "outputs": [],
   "source": [
    "accuracy_max_features = []\n",
    "\n",
    "for n_est in max_features_r:\n",
    "\n",
    "    RFR = RandomForestRegressor(max_depth=9, max_features= n_est, n_estimators= 191)\n",
    "    accuracy_max_features.append(cross_val_score(RFR, X_Val, Y_Val).mean())"
   ]
  },
  {
   "cell_type": "code",
   "execution_count": 78,
   "metadata": {},
   "outputs": [
    {
     "data": {
      "text/plain": [
       "Text(0, 0.5, 'Accuracy')"
      ]
     },
     "execution_count": 78,
     "metadata": {},
     "output_type": "execute_result"
    },
    {
     "data": {
      "image/png": "[encoded data removed]",
      "text/plain": [
       "<Figure size 432x288 with 1 Axes>"
      ]
     },
     "metadata": {
      "needs_background": "light"
     },
     "output_type": "display_data"
    }
   ],
   "source": [
    "import matplotlib.pyplot as plt\n",
    "\n",
    "plt.plot(max_features_r, accuracy_max_features)\n",
    "plt.xlabel('max_features')\n",
    "plt.ylabel('Accuracy')"
   ]
  },
  {
   "cell_type": "markdown",
   "metadata": {},
   "source": [
    "### Predicción con la tabla de prueba"
   ]
  },
  {
   "cell_type": "code",
   "execution_count": 90,
   "metadata": {},
   "outputs": [],
   "source": [
    "y_pred_VF = RFR.predict(dataTesting3)\n",
    "y_pred_VF = pd.DataFrame(y_pred_VF, columns=['Price'])\n"
   ]
  },
  {
   "cell_type": "code",
   "execution_count": 91,
   "metadata": {},
   "outputs": [
    {
     "data": {
      "text/html": [
       "<div>\n",
       "<style scoped>\n",
       "    .dataframe tbody tr th:only-of-type {\n",
       "        vertical-align: middle;\n",
       "    }\n",
       "\n",
       "    .dataframe tbody tr th {\n",
       "        vertical-align: top;\n",
       "    }\n",
       "\n",
       "    .dataframe thead th {\n",
       "        text-align: right;\n",
       "    }\n",
       "</style>\n",
       "<table border=\"1\" class=\"dataframe\">\n",
       "  <thead>\n",
       "    <tr style=\"text-align: right;\">\n",
       "      <th></th>\n",
       "      <th>Price</th>\n",
       "    </tr>\n",
       "  </thead>\n",
       "  <tbody>\n",
       "    <tr>\n",
       "      <th>0</th>\n",
       "      <td>31478.88</td>\n",
       "    </tr>\n",
       "    <tr>\n",
       "      <th>1</th>\n",
       "      <td>28032.58</td>\n",
       "    </tr>\n",
       "    <tr>\n",
       "      <th>2</th>\n",
       "      <td>12748.94</td>\n",
       "    </tr>\n",
       "    <tr>\n",
       "      <th>3</th>\n",
       "      <td>9903.82</td>\n",
       "    </tr>\n",
       "    <tr>\n",
       "      <th>4</th>\n",
       "      <td>27430.73</td>\n",
       "    </tr>\n",
       "    <tr>\n",
       "      <th>...</th>\n",
       "      <td>...</td>\n",
       "    </tr>\n",
       "    <tr>\n",
       "      <th>99995</th>\n",
       "      <td>25411.01</td>\n",
       "    </tr>\n",
       "    <tr>\n",
       "      <th>99996</th>\n",
       "      <td>30485.98</td>\n",
       "    </tr>\n",
       "    <tr>\n",
       "      <th>99997</th>\n",
       "      <td>32043.54</td>\n",
       "    </tr>\n",
       "    <tr>\n",
       "      <th>99998</th>\n",
       "      <td>27877.38</td>\n",
       "    </tr>\n",
       "    <tr>\n",
       "      <th>99999</th>\n",
       "      <td>20139.83</td>\n",
       "    </tr>\n",
       "  </tbody>\n",
       "</table>\n",
       "<p>100000 rows × 1 columns</p>\n",
       "</div>"
      ],
      "text/plain": [
       "          Price\n",
       "0      31478.88\n",
       "1      28032.58\n",
       "2      12748.94\n",
       "3       9903.82\n",
       "4      27430.73\n",
       "...         ...\n",
       "99995  25411.01\n",
       "99996  30485.98\n",
       "99997  32043.54\n",
       "99998  27877.38\n",
       "99999  20139.83\n",
       "\n",
       "[100000 rows x 1 columns]"
      ]
     },
     "execution_count": 91,
     "metadata": {},
     "output_type": "execute_result"
    }
   ],
   "source": [
    "y_pred_VF"
   ]
  },
  {
   "cell_type": "code",
   "execution_count": 92,
   "metadata": {},
   "outputs": [],
   "source": [
    "y_pred_VF.to_csv('test_submission_1.csv', index_label='ID')"
   ]
  },
  {
   "cell_type": "code",
   "execution_count": 1,
   "metadata": {},
   "outputs": [],
   "source": [
    "import joblib\n",
    "\n",
    "with open('proyecto_reg.pkl','wb') as archivo:\n",
    "\n",
    "    joblib.dump(clf, archivo, compress=3)"
   ]
  }
 ],
 "metadata": {
  "kernelspec": {
   "display_name": "Python 3 (ipykernel)",
   "language": "python",
   "name": "python3"
  },
  "language_info": {
   "codemirror_mode": {
    "name": "ipython",
    "version": 3
   },
   "file_extension": ".py",
   "mimetype": "text/x-python",
   "name": "python",
   "nbconvert_exporter": "python",
   "pygments_lexer": "ipython3",
   "version": "3.10.0"
  }
 },
 "nbformat": 4,
 "nbformat_minor": 1
}
